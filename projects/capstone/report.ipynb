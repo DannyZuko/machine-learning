{
 "cells": [
  {
   "cell_type": "markdown",
   "metadata": {},
   "source": [
    "# Capstone Project\n",
    "## Machine Learning Engineer Nanodegree\n",
    "\n",
    "## Definition\n",
    "\n",
    "### Project Overview\n",
    "\n",
    "### Problem Statement\n",
    "The problem we aim at solving is to find an optimal policy to buy and sell some given stock in order to make profits out of difference between buying price and selling price. We will try to find a solution to this problem through a variety of machine learning approaches. More detail about this can be found in the Analysis section and in particular in the Algorithms and Techniques subsection. We will choose a set of relevant features, on the assumption that their combination might have some predictive power.\n",
    "\n",
    "In a nutshell, we will be satisfied with the solution if the graph of cumulative profits over time has an upward trending slope and the ratio between the sum of all profits and the sum of all losses is at least greater than 2. This will mean that our model makes twice as much money than it loses, thus ensuring both profitability and low volatility.\n",
    "\n",
    "### Metrics\n",
    "* Graph of cumulative profits over time: this shows if the amount cumulative profits made by our agent are a positive amount, how smoothly profits are made with respect to the losses and the downside risk of the periods of negative performance\n",
    "\n",
    "* Profits minus losses: how much the agent has made minus how much the agent has lost\n",
    "\n",
    "* Average profit or loss per trade\n",
    "\n",
    "* Standard deviation of profits and losses\n",
    "\n",
    "* Percentage of winning trades over all trades (n. of winning trades + n. of losing trades)\n",
    "\n",
    "* Average profit of winning trades\n",
    "\n",
    "* Average loss of losing trades\n",
    "\n",
    "* Drawdowns: amount of money lost from any cumulative peak in the profit curve\n",
    "\n",
    "    * Worst peak-to-valley drawdown\n",
    "\n",
    "    * Average drawdown\n",
    "\n",
    "    * Median drawdown\n",
    "\n",
    "    * 3rd quartile drawdown\n",
    "\n",
    "* Recovery time from drawdowns: amount of time it takes to our agent to recover the amount of money previously lost\n",
    "\n",
    "    * Worst peak-to-valley drawdown recovery time\n",
    "\n",
    "    * Average drawdown recovery time\n",
    "\n",
    "    * Median drawdown recovery time\n",
    "\n",
    "    * 3rd quartile drawdown recovery time\n",
    "\n",
    "* Risk-adjusted profit or loss measures:\n",
    "\n",
    "    * Average profit or loss per trade divided by standard deviation of profits and losses\n",
    "\n",
    "    * Average profit or loss per trade divided by standard deviation of losses only\n",
    "\n",
    "    * Average profit or loss per trade divided by worst peak-to-valley drawdown\n",
    "\n",
    "    * Sum of money made of winning trades divided by sum of money lost on losing trades\n",
    "\n",
    "Our ideal agent:\n",
    "\n",
    "* makes more money than it loses,\n",
    "\n",
    "* shows a smooth upward trending profits curve,\n",
    "\n",
    "* makes high average profits,\n",
    "\n",
    "* makes low average losses,\n",
    "\n",
    "* makes high percentage of winning trades,\n",
    "\n",
    "* makes small drawdowns,\n",
    "\n",
    "* has short recovery time from drawdowns\n",
    "\n",
    "## Analysis\n",
    "\n",
    "### Data Exploration\n",
    "\n",
    "The dataset consists of financial time series of Apple Inc stock (ticker: AAPL) and comes from Quandl’s open source wiki ([https://www.quandl.com/data/WIKI/AAPL-Apple-Inc-AAPL-Prices-Dividends-Splits-and-Trading-Volume](https://www.quandl.com/data/WIKI/AAPL-Apple-Inc-AAPL-Prices-Dividends-Splits-and-Trading-Volume)). Please find a sample below:"
   ]
  },
  {
   "cell_type": "code",
   "execution_count": 22,
   "metadata": {
    "collapsed": true
   },
   "outputs": [
    {
     "data": {
      "text/html": [
       "<div>\n",
       "<table border=\"1\" class=\"dataframe\">\n",
       "  <thead>\n",
       "    <tr style=\"text-align: right;\">\n",
       "      <th></th>\n",
       "      <th>open</th>\n",
       "      <th>high</th>\n",
       "      <th>low</th>\n",
       "      <th>close</th>\n",
       "      <th>volume</th>\n",
       "      <th>ex_dividend</th>\n",
       "      <th>split_ratio</th>\n",
       "      <th>adj_open</th>\n",
       "      <th>adj_high</th>\n",
       "      <th>adj_low</th>\n",
       "      <th>adj_close</th>\n",
       "      <th>adj_volume</th>\n",
       "    </tr>\n",
       "  </thead>\n",
       "  <tbody>\n",
       "    <tr>\n",
       "      <th>2016-09-06</th>\n",
       "      <td>107.90</td>\n",
       "      <td>108.3000</td>\n",
       "      <td>107.51</td>\n",
       "      <td>107.68</td>\n",
       "      <td>24354375.0</td>\n",
       "      <td>0.0</td>\n",
       "      <td>1.0</td>\n",
       "      <td>107.90</td>\n",
       "      <td>108.3000</td>\n",
       "      <td>107.51</td>\n",
       "      <td>107.68</td>\n",
       "      <td>24354375.0</td>\n",
       "    </tr>\n",
       "    <tr>\n",
       "      <th>2016-09-02</th>\n",
       "      <td>107.70</td>\n",
       "      <td>108.0000</td>\n",
       "      <td>106.82</td>\n",
       "      <td>107.73</td>\n",
       "      <td>26802450.0</td>\n",
       "      <td>0.0</td>\n",
       "      <td>1.0</td>\n",
       "      <td>107.70</td>\n",
       "      <td>108.0000</td>\n",
       "      <td>106.82</td>\n",
       "      <td>107.73</td>\n",
       "      <td>26802450.0</td>\n",
       "    </tr>\n",
       "    <tr>\n",
       "      <th>2016-09-01</th>\n",
       "      <td>106.14</td>\n",
       "      <td>106.8000</td>\n",
       "      <td>105.62</td>\n",
       "      <td>106.73</td>\n",
       "      <td>26701523.0</td>\n",
       "      <td>0.0</td>\n",
       "      <td>1.0</td>\n",
       "      <td>106.14</td>\n",
       "      <td>106.8000</td>\n",
       "      <td>105.62</td>\n",
       "      <td>106.73</td>\n",
       "      <td>26701523.0</td>\n",
       "    </tr>\n",
       "    <tr>\n",
       "      <th>2016-08-31</th>\n",
       "      <td>105.66</td>\n",
       "      <td>106.5699</td>\n",
       "      <td>105.64</td>\n",
       "      <td>106.10</td>\n",
       "      <td>29662406.0</td>\n",
       "      <td>0.0</td>\n",
       "      <td>1.0</td>\n",
       "      <td>105.66</td>\n",
       "      <td>106.5699</td>\n",
       "      <td>105.64</td>\n",
       "      <td>106.10</td>\n",
       "      <td>29662406.0</td>\n",
       "    </tr>\n",
       "    <tr>\n",
       "      <th>2016-08-30</th>\n",
       "      <td>105.80</td>\n",
       "      <td>106.5000</td>\n",
       "      <td>105.50</td>\n",
       "      <td>106.00</td>\n",
       "      <td>24863945.0</td>\n",
       "      <td>0.0</td>\n",
       "      <td>1.0</td>\n",
       "      <td>105.80</td>\n",
       "      <td>106.5000</td>\n",
       "      <td>105.50</td>\n",
       "      <td>106.00</td>\n",
       "      <td>24863945.0</td>\n",
       "    </tr>\n",
       "  </tbody>\n",
       "</table>\n",
       "</div>"
      ],
      "text/plain": [
       "              open      high     low   close      volume  ex_dividend  \\\n",
       "2016-09-06  107.90  108.3000  107.51  107.68  24354375.0          0.0   \n",
       "2016-09-02  107.70  108.0000  106.82  107.73  26802450.0          0.0   \n",
       "2016-09-01  106.14  106.8000  105.62  106.73  26701523.0          0.0   \n",
       "2016-08-31  105.66  106.5699  105.64  106.10  29662406.0          0.0   \n",
       "2016-08-30  105.80  106.5000  105.50  106.00  24863945.0          0.0   \n",
       "\n",
       "            split_ratio  adj_open  adj_high  adj_low  adj_close  adj_volume  \n",
       "2016-09-06          1.0    107.90  108.3000   107.51     107.68  24354375.0  \n",
       "2016-09-02          1.0    107.70  108.0000   106.82     107.73  26802450.0  \n",
       "2016-09-01          1.0    106.14  106.8000   105.62     106.73  26701523.0  \n",
       "2016-08-31          1.0    105.66  106.5699   105.64     106.10  29662406.0  \n",
       "2016-08-30          1.0    105.80  106.5000   105.50     106.00  24863945.0  "
      ]
     },
     "metadata": {},
     "output_type": "display_data"
    },
    {
     "data": {
      "text/html": [
       "<div>\n",
       "<table border=\"1\" class=\"dataframe\">\n",
       "  <thead>\n",
       "    <tr style=\"text-align: right;\">\n",
       "      <th></th>\n",
       "      <th>open</th>\n",
       "      <th>high</th>\n",
       "      <th>low</th>\n",
       "      <th>close</th>\n",
       "      <th>volume</th>\n",
       "      <th>ex_dividend</th>\n",
       "      <th>split_ratio</th>\n",
       "      <th>adj_open</th>\n",
       "      <th>adj_high</th>\n",
       "      <th>adj_low</th>\n",
       "      <th>adj_close</th>\n",
       "      <th>adj_volume</th>\n",
       "    </tr>\n",
       "  </thead>\n",
       "  <tbody>\n",
       "    <tr>\n",
       "      <th>1980-12-18</th>\n",
       "      <td>26.63</td>\n",
       "      <td>26.75</td>\n",
       "      <td>26.63</td>\n",
       "      <td>26.63</td>\n",
       "      <td>327900.0</td>\n",
       "      <td>0.0</td>\n",
       "      <td>1.0</td>\n",
       "      <td>0.398490</td>\n",
       "      <td>0.400286</td>\n",
       "      <td>0.398490</td>\n",
       "      <td>0.398490</td>\n",
       "      <td>18362400.0</td>\n",
       "    </tr>\n",
       "    <tr>\n",
       "      <th>1980-12-17</th>\n",
       "      <td>25.87</td>\n",
       "      <td>26.00</td>\n",
       "      <td>25.87</td>\n",
       "      <td>25.87</td>\n",
       "      <td>385900.0</td>\n",
       "      <td>0.0</td>\n",
       "      <td>1.0</td>\n",
       "      <td>0.387117</td>\n",
       "      <td>0.389063</td>\n",
       "      <td>0.387117</td>\n",
       "      <td>0.387117</td>\n",
       "      <td>21610400.0</td>\n",
       "    </tr>\n",
       "    <tr>\n",
       "      <th>1980-12-16</th>\n",
       "      <td>25.37</td>\n",
       "      <td>25.37</td>\n",
       "      <td>25.25</td>\n",
       "      <td>25.25</td>\n",
       "      <td>472000.0</td>\n",
       "      <td>0.0</td>\n",
       "      <td>1.0</td>\n",
       "      <td>0.379635</td>\n",
       "      <td>0.379635</td>\n",
       "      <td>0.377840</td>\n",
       "      <td>0.377840</td>\n",
       "      <td>26432000.0</td>\n",
       "    </tr>\n",
       "    <tr>\n",
       "      <th>1980-12-15</th>\n",
       "      <td>27.38</td>\n",
       "      <td>27.38</td>\n",
       "      <td>27.25</td>\n",
       "      <td>27.25</td>\n",
       "      <td>785200.0</td>\n",
       "      <td>0.0</td>\n",
       "      <td>1.0</td>\n",
       "      <td>0.409713</td>\n",
       "      <td>0.409713</td>\n",
       "      <td>0.407768</td>\n",
       "      <td>0.407768</td>\n",
       "      <td>43971200.0</td>\n",
       "    </tr>\n",
       "    <tr>\n",
       "      <th>1980-12-12</th>\n",
       "      <td>28.75</td>\n",
       "      <td>28.87</td>\n",
       "      <td>28.75</td>\n",
       "      <td>28.75</td>\n",
       "      <td>2093900.0</td>\n",
       "      <td>0.0</td>\n",
       "      <td>1.0</td>\n",
       "      <td>0.430213</td>\n",
       "      <td>0.432009</td>\n",
       "      <td>0.430213</td>\n",
       "      <td>0.430213</td>\n",
       "      <td>117258400.0</td>\n",
       "    </tr>\n",
       "  </tbody>\n",
       "</table>\n",
       "</div>"
      ],
      "text/plain": [
       "             open   high    low  close     volume  ex_dividend  split_ratio  \\\n",
       "1980-12-18  26.63  26.75  26.63  26.63   327900.0          0.0          1.0   \n",
       "1980-12-17  25.87  26.00  25.87  25.87   385900.0          0.0          1.0   \n",
       "1980-12-16  25.37  25.37  25.25  25.25   472000.0          0.0          1.0   \n",
       "1980-12-15  27.38  27.38  27.25  27.25   785200.0          0.0          1.0   \n",
       "1980-12-12  28.75  28.87  28.75  28.75  2093900.0          0.0          1.0   \n",
       "\n",
       "            adj_open  adj_high   adj_low  adj_close   adj_volume  \n",
       "1980-12-18  0.398490  0.400286  0.398490   0.398490   18362400.0  \n",
       "1980-12-17  0.387117  0.389063  0.387117   0.387117   21610400.0  \n",
       "1980-12-16  0.379635  0.379635  0.377840   0.377840   26432000.0  \n",
       "1980-12-15  0.409713  0.409713  0.407768   0.407768   43971200.0  \n",
       "1980-12-12  0.430213  0.432009  0.430213   0.430213  117258400.0  "
      ]
     },
     "metadata": {},
     "output_type": "display_data"
    }
   ],
   "source": [
    "from IPython.display import display\n",
    "\n",
    "data = pd.read_csv('WIKI-AAPL.csv', index_col=0)\n",
    "\n",
    "display(data.head())\n",
    "display(data.tail())"
   ]
  },
  {
   "cell_type": "markdown",
   "metadata": {},
   "source": [
    "\n",
    "\n",
    "\n",
    "\n",
    "Along with its daily timestamp as row index, each row contains the following inputs:\n",
    "\n",
    "* Open: price at which the stock was traded when market opened\n",
    "\n",
    "* High: highest price at which the stock was traded during the day\n",
    "\n",
    "* Low: lowest price at which the stock was traded during the day\n",
    "\n",
    "* Close: price at which the stock was traded when market closed\n",
    "\n",
    "* Volume: number of stocks traded during the day\n",
    "\n",
    "* Dividends: amount of money paid by Apple to its stockholders per share\n",
    "\n",
    "* Splits: see note below\n",
    "\n",
    "* Split/dividend adjusted open: see note below\n",
    "\n",
    "* Split/dividend adjusted high: see note below\n",
    "\n",
    "* Split/dividend adjusted low: see note below\n",
    "\n",
    "* Split/dividend adjusted close: see note below\n",
    "\n",
    "* Split/dividend adjusted volume: see note below\n",
    "\n",
    "(write note explaining split/dividend adjusted price)\n",
    "\n",
    "For an additional intuitive explanation of how this work, please watch the following video from Udacity’s Machine Learning for Trading course: [https://youtu.be/M2res0zhqjo](https://youtu.be/M2res0zhqjo)\n",
    "\n",
    "The data per se - as it is given - offers little useful information until it has been preprocessed in order to extract relevant information out of the given data. We postpone documenting such preprocessing steps to the Methodology section.\n",
    "\n",
    "The only useful information contained in the raw data is the adjusted volume. From now on, we will just refer to it as volume instead of adjusted volume in that it is the only data regarding volume that we are interested in.\n",
    "\n",
    "The reason why we are interested in volume data is that our fundamental assumption is that price changes are driven by supply and demand and the number of stocks traded indicates whether the price changes are due to a handful of players or to a much larger crowd.\n",
    "\n",
    "For example, let’s imagine a market where there are very few buyers and sellers. Then, the price will be determined by the supply and demand of those few players. On the contrary, if the crowd trading some market is very large, the equilibrium price will be the result of much wider negotiations. Therefore, we tend to assume that large volumes contribute to more reliable buying and selling signals. In any case, the size of the market - i.e. the number of stocks traded - does matter and we will try to use it to predict price movements, together with other human-engineered features.\n",
    "\n",
    "Here are a few observations regarding the volume statistics:\n",
    "\n",
    "* There are 9011 data points, one per trading day from 1980-12-12 to 2016-09-06\n",
    "\n",
    "* The mean volume is about 91 mln and the median volume is about 63 mln\n",
    "\n",
    "* The standard deviation of the volume is about 88 mln, which looks pretty high\n",
    "\n",
    "* The skewness is above 3, which looks high too. We can also notice that the mean is much higher than the median. This suggests us that there are some large outliers on the right side of the distribution.\n",
    "\n",
    "* The kurtosis is above 28, which is a very high reading. This indicates the tails of the distribution are quite fat.\n",
    "\n",
    "* The minimum volume was around 250k on 1985-09-27, so during the 80s\n",
    "\n",
    "* The maximum volume was around 1.9bn (!) on 2000-09-29, during the tech bubble\n",
    "\n",
    "* There are 616 outliers and 191 major outliers. That is respectively 6.8% and 2.1% of the observations, which looks high. Also, given the outlier lower bound is negative, we infer that all outliers are on the right side of the distribution, since it is not possible the number of stocks traded on some given day is below zero. This tells us there were several days of extraordinary activity in the trading of Apple stocks and it is certainly something to keep in mind."
   ]
  },
  {
   "cell_type": "code",
   "execution_count": 30,
   "metadata": {
    "collapsed": false
   },
   "outputs": [
    {
     "data": {
      "text/html": [
       "<div>\n",
       "<table border=\"1\" class=\"dataframe\">\n",
       "  <thead>\n",
       "    <tr style=\"text-align: right;\">\n",
       "      <th></th>\n",
       "      <th>value</th>\n",
       "    </tr>\n",
       "  </thead>\n",
       "  <tbody>\n",
       "    <tr>\n",
       "      <th>mean</th>\n",
       "      <td>9.11281e+07</td>\n",
       "    </tr>\n",
       "    <tr>\n",
       "      <th>median</th>\n",
       "      <td>6.34424e+07</td>\n",
       "    </tr>\n",
       "    <tr>\n",
       "      <th>std</th>\n",
       "      <td>8.79905e+07</td>\n",
       "    </tr>\n",
       "    <tr>\n",
       "      <th>skew</th>\n",
       "      <td>3.38451</td>\n",
       "    </tr>\n",
       "    <tr>\n",
       "      <th>kurt</th>\n",
       "      <td>28.3175</td>\n",
       "    </tr>\n",
       "    <tr>\n",
       "      <th>min</th>\n",
       "      <td>250376</td>\n",
       "    </tr>\n",
       "    <tr>\n",
       "      <th>argmin</th>\n",
       "      <td>1985-09-27</td>\n",
       "    </tr>\n",
       "    <tr>\n",
       "      <th>max</th>\n",
       "      <td>1.85541e+09</td>\n",
       "    </tr>\n",
       "    <tr>\n",
       "      <th>argmax</th>\n",
       "      <td>2000-09-29</td>\n",
       "    </tr>\n",
       "    <tr>\n",
       "      <th>q1</th>\n",
       "      <td>3.65582e+07</td>\n",
       "    </tr>\n",
       "    <tr>\n",
       "      <th>q3</th>\n",
       "      <td>1.13487e+08</td>\n",
       "    </tr>\n",
       "    <tr>\n",
       "      <th>iqr</th>\n",
       "      <td>7.69286e+07</td>\n",
       "    </tr>\n",
       "    <tr>\n",
       "      <th>outlier_lb</th>\n",
       "      <td>-7.88347e+07</td>\n",
       "    </tr>\n",
       "    <tr>\n",
       "      <th>outlier_ub</th>\n",
       "      <td>2.2888e+08</td>\n",
       "    </tr>\n",
       "    <tr>\n",
       "      <th>major_outlier_lb</th>\n",
       "      <td>-1.94228e+08</td>\n",
       "    </tr>\n",
       "    <tr>\n",
       "      <th>major_outlier_ub</th>\n",
       "      <td>3.44273e+08</td>\n",
       "    </tr>\n",
       "    <tr>\n",
       "      <th>n_obs</th>\n",
       "      <td>9011</td>\n",
       "    </tr>\n",
       "    <tr>\n",
       "      <th>n_outliers</th>\n",
       "      <td>616</td>\n",
       "    </tr>\n",
       "    <tr>\n",
       "      <th>n_major_outliers</th>\n",
       "      <td>191</td>\n",
       "    </tr>\n",
       "    <tr>\n",
       "      <th>n_minor_outliers</th>\n",
       "      <td>425</td>\n",
       "    </tr>\n",
       "  </tbody>\n",
       "</table>\n",
       "</div>"
      ],
      "text/plain": [
       "                        value\n",
       "mean              9.11281e+07\n",
       "median            6.34424e+07\n",
       "std               8.79905e+07\n",
       "skew                  3.38451\n",
       "kurt                  28.3175\n",
       "min                    250376\n",
       "argmin             1985-09-27\n",
       "max               1.85541e+09\n",
       "argmax             2000-09-29\n",
       "q1                3.65582e+07\n",
       "q3                1.13487e+08\n",
       "iqr               7.69286e+07\n",
       "outlier_lb       -7.88347e+07\n",
       "outlier_ub         2.2888e+08\n",
       "major_outlier_lb -1.94228e+08\n",
       "major_outlier_ub  3.44273e+08\n",
       "n_obs                    9011\n",
       "n_outliers                616\n",
       "n_major_outliers          191\n",
       "n_minor_outliers          425"
      ]
     },
     "execution_count": 30,
     "metadata": {},
     "output_type": "execute_result"
    }
   ],
   "source": [
    "def summary(df):\n",
    "    '''Provide summary of relevant statistics for some given feature'''\n",
    "    \n",
    "    df = df.iloc[:,0]\n",
    "    n_obs = df.count()\n",
    "    mean = df.mean()\n",
    "    median = df.median()\n",
    "    std = df.std()\n",
    "    skew = df.skew()\n",
    "    kurt = df.kurt()\n",
    "    min = df.min()\n",
    "    argmin = df.argmin()\n",
    "    max = df.max()\n",
    "    argmax = df.argmax()\n",
    "    q3, q1 = np.percentile(df.dropna(), [75, 25])\n",
    "    iqr = q3 - q1\n",
    "    outlier_lb = q1 - iqr * 1.5\n",
    "    outlier_ub = q3 + iqr * 1.5\n",
    "    major_outlier_lb = q1 - iqr * 3\n",
    "    major_outlier_ub = q3 + iqr * 3\n",
    "    is_outlier = (df.dropna() < outlier_lb) | (df.dropna() > outlier_ub)\n",
    "    is_major_outlier = (df.dropna() < major_outlier_lb) | \\\n",
    "                       (df.dropna() > major_outlier_ub) \n",
    "    n_outliers = is_outlier.sum()\n",
    "    n_major_outliers = is_major_outlier.sum()\n",
    "    n_minor_outliers = n_outliers - n_major_outliers\n",
    "\n",
    "    values = [mean, median, std, skew, kurt, min, argmin, max, argmax, q1, q3,\n",
    "              iqr, outlier_lb, outlier_ub, major_outlier_lb, major_outlier_ub,\n",
    "              n_obs, n_outliers, n_major_outliers, n_minor_outliers] \n",
    "\n",
    "    labels = ['mean', 'median', 'std', 'skew', 'kurt', 'min', 'argmin', 'max',\n",
    "              'argmax', 'q1', 'q3', 'iqr', 'outlier_lb', 'outlier_ub',\n",
    "              'major_outlier_lb', 'major_outlier_ub', 'n_obs', 'n_outliers',\n",
    "              'n_major_outliers', 'n_minor_outliers']\n",
    "\n",
    "    summary = pd.DataFrame(values, labels, ['value'])\n",
    "\n",
    "    return summary\n",
    "\n",
    "volumes = data['adj_volume']\n",
    "summary(pd.DataFrame(volumes))"
   ]
  },
  {
   "cell_type": "markdown",
   "metadata": {},
   "source": [
    "### Exploratory Visualization\n",
    "\n",
    "As we can see from the box-and-whisker plot below there are many outliers and some of them are completely elsewhere with respect to the rest of the sample.  This confirms the impression we got in the Data Exploration subsection."
   ]
  },
  {
   "cell_type": "code",
   "execution_count": 31,
   "metadata": {
    "collapsed": false
   },
   "outputs": [
    {
     "data": {
      "image/png": "[encoded data removed]",
      "text/plain": [
       "<matplotlib.figure.Figure at 0x7f3a1435e0d0>"
      ]
     },
     "metadata": {},
     "output_type": "display_data"
    }
   ],
   "source": [
    "import matplotlib.pyplot as plt\n",
    "%matplotlib inline\n",
    "\n",
    "# showing all outliers\n",
    "plt.boxplot(volumes, vert=False, labels=['Volumes'], showmeans=True)\n",
    "plt.title('Box-and-whisker plots including all outliers')\n",
    "plt.show()"
   ]
  },
  {
   "cell_type": "markdown",
   "metadata": {},
   "source": [
    "The plot changes substantially when we remove all major outliers from the picture, i.e. all outliers below Q1 - IQR \\* 3 and above Q3 + IQR \\* 3."
   ]
  },
  {
   "cell_type": "code",
   "execution_count": 32,
   "metadata": {
    "collapsed": false
   },
   "outputs": [
    {
     "data": {
      "image/png": "[encoded data removed]",
      "text/plain": [
       "<matplotlib.figure.Figure at 0x7f3a1425a610>"
      ]
     },
     "metadata": {},
     "output_type": "display_data"
    }
   ],
   "source": [
    "# ignoring major outliers only\n",
    "plt.boxplot(volumes, vert=False, labels=['Volumes'], showmeans=True,\n",
    "            showfliers=False, whis=3)\n",
    "plt.title('Box-and-whisker plots excluding major outliers only')\n",
    "plt.show()"
   ]
  },
  {
   "cell_type": "markdown",
   "metadata": {},
   "source": [
    "Eventually, the plot changes even more when we remove all outliers - both major and minor - from the picture, i.e. all outliers below Q1 - IQR \\* 1.5 and above Q3 + IQR \\* 1.5."
   ]
  },
  {
   "cell_type": "code",
   "execution_count": 33,
   "metadata": {
    "collapsed": false
   },
   "outputs": [
    {
     "data": {
      "image/png": "[encoded data removed]",
      "text/plain": [
       "<matplotlib.figure.Figure at 0x7f3a13f94290>"
      ]
     },
     "metadata": {},
     "output_type": "display_data"
    }
   ],
   "source": [
    "# ignoring all outliers\n",
    "plt.boxplot(volumes, vert=False, labels=['Volumes'], showmeans=True,\n",
    "            showfliers=False)\n",
    "plt.title('Box-and-whisker plots excluding all outliers')\n",
    "plt.show()"
   ]
  },
  {
   "cell_type": "markdown",
   "metadata": {},
   "source": [
    "Such visualization gives us a visual intuition of what we observed about outliers in the Data Exploration subsection. The number of outliers is high and this will have to be taken into consideration when building the model.\n",
    "\n",
    "Then, visualizing the histogram in order to get a visual intuition of the distribution of our volume data confirms what we observed in the Data Exploration subsection. The distribution is clearly positively skewed and it has a very long right tail. Also, it seems the distribution could be approximated by a lognormal distribution."
   ]
  },
  {
   "cell_type": "code",
   "execution_count": 34,
   "metadata": {
    "collapsed": false
   },
   "outputs": [
    {
     "data": {
      "image/png": "[encoded data removed]",
      "text/plain": [
       "<matplotlib.figure.Figure at 0x7f3a13f94910>"
      ]
     },
     "metadata": {},
     "output_type": "display_data"
    }
   ],
   "source": [
    "# histogram of volume distribution\n",
    "plt.hist(volumes, bins=500, histtype='stepfilled')\n",
    "plt.xlabel('Volume')\n",
    "plt.ylabel('N. of observations')\n",
    "plt.title('Histogram of volume distribution')\n",
    "plt.show()"
   ]
  },
  {
   "cell_type": "markdown",
   "metadata": {},
   "source": [
    "This is confirmed by the fact that if we do the same plot using the natural logarithm of the data we have a relatively nice bell-shaped curve. We will keep this in mind and see if it is of any help for the rest of the project."
   ]
  },
  {
   "cell_type": "code",
   "execution_count": 35,
   "metadata": {
    "collapsed": false
   },
   "outputs": [
    {
     "data": {
      "image/png": "[encoded data removed]",
      "text/plain": [
       "<matplotlib.figure.Figure at 0x7f3a13edf690>"
      ]
     },
     "metadata": {},
     "output_type": "display_data"
    }
   ],
   "source": [
    "# histogram of log(volume) distribution\n",
    "plt.hist(np.log(volumes), bins=100, histtype='stepfilled')\n",
    "plt.xlabel('Volume')\n",
    "plt.ylabel('N. of observations')\n",
    "plt.title('Histogram of log(volume) distribution')\n",
    "plt.show()"
   ]
  },
  {
   "cell_type": "markdown",
   "metadata": {
    "collapsed": true
   },
   "source": [
    "### Algorithms and Techniques\n",
    "\n",
    "Algorithms we will use:\n",
    "* Q-learning\n",
    "* Logistic regression\n",
    "* Support vector machines\n",
    "* Nearest neighbors classification\n",
    "* Ensemble learning\n",
    "\n",
    "There exist countless more machine learning algorithms but for the sake of this project we had to choose a few. Our arbitrary choice fell on this shortlist for a couple of reason: simplicity and diversity. As far as simplicity is concerned, we believe the simpler the model the more chances it has to work. This is often true both in science and in finance. As far as diversity is concerned, we choose a mix of reinforcement learning (e.g. Q-learning) and supervised learning algorithms, making sure we would pick both parametric (e.g. logistic regression) and non-parametric models (e.g. SVMs, KNN). We did not include any unsupervised learning method in that the nature of our  problem is such that we are in possession of the labels for all training sets.\n",
    "\n",
    "#### General note on cross-validation for all algorithms\n",
    "Given the nature of our data, our choice will be to train our models on some given subset of the whole dataset at regular intervals (training set) and test its outcome on some immediately subsequent unseen subset (test set). This is known as roll forward cross validation. Its rationale is that learning some model on the whole dataset is more prone to overfitting than learning some model multiple times on small subsets of the data, thus enabling to run multiple tests with the same data.\n",
    "\n",
    "The reason why this rolling window or roll forward cross validation is a common practice in the case of financial time series is that we really do not want to look into the future while training some model. Hence, it is of utmost importance that the training sets always precede their respective test set.\n",
    "\n",
    "#### Q-learning\n",
    "We will define:\n",
    "* A state consisting of some set of inputs that I will describe in further detail in the Methodology section\n",
    "* A set of actions (buy, sell, do nothing)\n",
    "* A set of rewards for all combinations of starting state, action and arrival state\n",
    "* A model of transitions learned from the training sets\n",
    "\n",
    "The reason for using Q-learning is to create an agent which learns the rewards and penalties associated with each state and acts on the test set based on the Q-table it learned from the training set. The metaphor we may use is that of a self-driving car which gets rewarded for driving safely and penalized for crashing, causing damages to people or things, and breaking traffic rules. Accordingly, we will reward our agent when it makes money and penalize it when it loses money.\n",
    "\n",
    "#### Logistic regression\n",
    "The reason for using logistic regression is to classify the data points to determine whether the the stock should be bought or sold. We will train the model on the training sets based on the human-engineered features discussed in the Methodology section.\n",
    "\n",
    "For each data point, we will assign some probability of profiting by buying and some probability of profiting by selling based on whether buying or selling the stock would have made a profit or loss. Eventually, we will label data points in the training set by using a sigmoid function and choosing some minimum threshold in order to classify data points in the ‘buy’ class or in the ‘sell’ class and put all other data points in the ‘do nothing’ class.\n",
    "\n",
    "#### Support vector machines\n",
    "The reason for using support vector machines is again to classify the data points to determine whether the stock should be bought or sold. The purpose is the same as logistic regression but we use a different approach here: we aim at finding a decision boundary that maximizes the margin, i.e. finding a line or hyperplane that is consistent with the data while committing the least to it. The reason why we want to commit the least to our data is that we want to avoid overfitting.\n",
    "\n",
    "Since it is possible that our data is not linearly separable given our human-engineered features, we will consider using the kernel trick, i.e. we will use some function to add some features by applying some linear transformation to our own features so that our non-linearly separable data becomes linearly separable. This is necessary with SVMs in that this algorithm puts first and foremost correct classification and only after it maximizes the margin. We will also play with the C and gamma parameters in order to find a model that fits the training data well enough but without falling into the trap of overfitting.\n",
    "\n",
    "#### Nearest neighbors classification\n",
    "The reason for using neighbors-based classification is again to classify the data points to determine whether the stock should be bought or sold, but also to diversify the classification approach we will use with logistic regression and support vector machines. By using this algorithm, we do not attempt to construct a general internal model, but simply store instances of the training data and classify via a simple majority vote of the nearest neighbors of each point.\n",
    "\n",
    "We will try both the basic uniform weighting and the distance-based weighting. In the case of uniform weighting, the value assigned to a query point will be computed from a simple majority vote of the nearest neighbors. In the case of distance-based weighting, we will weight the neighbors such that nearer neighbors contribute more to the fit.\n",
    "\n",
    "#### Ensemble learning\n",
    "The reason for using a ensemble learning is to combine the predictions of all other learning algorithm in order to improve generalizability / robustness over a single estimator. Since all learning algortihms have advantages and disadvantages that often differ from each other, by building several estimators independently and averaging their predictions we aim at having a combined estimator such that its variance is lower than that of any other single base estimator.\n",
    "\n",
    "The way we will apply this averaging method to our problem is to build one portfolio made up of all models. Each model will have equal weight and will perform the action suggested by the outcome of its respective training: buy, sell or do nothing.\n",
    "\n",
    "Example: Given a portfolio of 100\\$ and 4 models A, B, C and D, if model A and B say 'buy', model C says 'sell' and model D says 'do nothing', our ensemble model will suggest to buy 50\\$ of Apple stock due to A and B's recommendation, sell 25\\$ of Apple stock due to C's recommendation and do nothing with the remaining 25\\$ due to D's recommendation. Eventually, the 50\\$ of buying and the 25\\$ of selling will partially offset each other, resulting in 25\\$ of buying only. The clear consequence is that by listening to the opinion of four different learning algorithms the variability of the returns is reduced."
   ]
  },
  {
   "cell_type": "markdown",
   "metadata": {},
   "source": [
    "### Benchmark\n",
    "A common practice in the domain of finance is to consider the performance you would have gotten by just buying the stock at the beginning of the period you are examining and holding it until the end. In our case, we will use the metrics we have listed in the Definition section and see how our models fare against these.\n",
    "\n",
    "In order to be able to use our metrics for benchmarking purposes, we had to do some preprocessing on our data. We leave the discussion on our preprocessing steps to the Methodology section."
   ]
  },
  {
   "cell_type": "code",
   "execution_count": 36,
   "metadata": {
    "collapsed": false
   },
   "outputs": [
    {
     "data": {
      "image/png": "[encoded data removed]",
      "text/plain": [
       "<matplotlib.figure.Figure at 0x7f3a13ea9d50>"
      ]
     },
     "metadata": {},
     "output_type": "display_data"
    }
   ],
   "source": [
    "data = data[['adj_close', 'adj_volume']]\n",
    "data = data.reindex(index=data.index[::-1])\n",
    "\n",
    "daily_returns = data['adj_close'] / data['adj_close'].shift(1) - 1\n",
    "daily_returns = pd.DataFrame(daily_returns)\n",
    "daily_returns.columns = ['daily_returns']\n",
    "data = data.join(daily_returns)\n",
    "\n",
    "cumulative_returns = data['adj_close'] / data['adj_close'][0] - 1\n",
    "cumulative_returns = pd.DataFrame(cumulative_returns)\n",
    "cumulative_returns.columns = ['cumulative_returns']\n",
    "data = data.join(cumulative_returns)\n",
    "\n",
    "# plot line chart of cumulative returns\n",
    "# remember to put dates on x axis\n",
    "plt.plot(data['cumulative_returns'].values)\n",
    "plt.title('Cumulative returns graph')\n",
    "plt.show()"
   ]
  },
  {
   "cell_type": "code",
   "execution_count": 37,
   "metadata": {
    "collapsed": false
   },
   "outputs": [
    {
     "data": {
      "text/html": [
       "<div>\n",
       "<table border=\"1\" class=\"dataframe\">\n",
       "  <thead>\n",
       "    <tr style=\"text-align: right;\">\n",
       "      <th></th>\n",
       "      <th>benchmark</th>\n",
       "    </tr>\n",
       "  </thead>\n",
       "  <tbody>\n",
       "    <tr>\n",
       "      <th>final_pnl</th>\n",
       "      <td>249.294356</td>\n",
       "    </tr>\n",
       "    <tr>\n",
       "      <th>avg_annual_return</th>\n",
       "      <td>0.266496</td>\n",
       "    </tr>\n",
       "    <tr>\n",
       "      <th>annual_std</th>\n",
       "      <td>0.469047</td>\n",
       "    </tr>\n",
       "    <tr>\n",
       "      <th>max_drawdown</th>\n",
       "      <td>93.885701</td>\n",
       "    </tr>\n",
       "    <tr>\n",
       "      <th>avg_drawdown</th>\n",
       "      <td>8.065995</td>\n",
       "    </tr>\n",
       "    <tr>\n",
       "      <th>median_drawdown</th>\n",
       "      <td>2.314381</td>\n",
       "    </tr>\n",
       "    <tr>\n",
       "      <th>information_ratio</th>\n",
       "      <td>0.568165</td>\n",
       "    </tr>\n",
       "    <tr>\n",
       "      <th>sterling_ratio</th>\n",
       "      <td>0.801082</td>\n",
       "    </tr>\n",
       "    <tr>\n",
       "      <th>adjusted_sterling_ratio</th>\n",
       "      <td>0.796429</td>\n",
       "    </tr>\n",
       "    <tr>\n",
       "      <th>calmar_ratio</th>\n",
       "      <td>0.002839</td>\n",
       "    </tr>\n",
       "    <tr>\n",
       "      <th>omega_ratio</th>\n",
       "      <td>1.108667</td>\n",
       "    </tr>\n",
       "  </tbody>\n",
       "</table>\n",
       "</div>"
      ],
      "text/plain": [
       "                          benchmark\n",
       "final_pnl                249.294356\n",
       "avg_annual_return          0.266496\n",
       "annual_std                 0.469047\n",
       "max_drawdown              93.885701\n",
       "avg_drawdown               8.065995\n",
       "median_drawdown            2.314381\n",
       "information_ratio          0.568165\n",
       "sterling_ratio             0.801082\n",
       "adjusted_sterling_ratio    0.796429\n",
       "calmar_ratio               0.002839\n",
       "omega_ratio                1.108667"
      ]
     },
     "metadata": {},
     "output_type": "display_data"
    }
   ],
   "source": [
    "# for every dollar invested in Apple stock on 12th Dec 1980 (beginning of the\n",
    "# period), you would made a profit of 249.29$\n",
    "final_pnl = data['cumulative_returns'][-1]\n",
    "\n",
    "# avg annual return = avg daily return * number of trading days in a year\n",
    "avg_annual_return = data['daily_returns'].mean() * 252\n",
    "\n",
    "# avg annual std = daily std * sqrt(number of trading days in a year)\n",
    "# we take the sqrt because\n",
    "# std = sqrt(variance)\n",
    "# annual variance = daily variance * 252\n",
    "# annual std = sqrt(annual variance)\n",
    "#            = sqrt(daily variance * 252)\n",
    "#            = sqrt(daily variance) * sqrt(252)\n",
    "#            = daily std * sqrt(252)\n",
    "annual_std = data['daily_returns'].std() * np.sqrt(252)\n",
    "\n",
    "cum_ret = data['cumulative_returns']\n",
    "drawdowns = np.maximum.accumulate(cum_ret) - cum_ret\n",
    "max_drawdown_valley = np.argmax(drawdowns)\n",
    "max_drawdown_peak = np.argmax(cum_ret[:max_drawdown_valley])\n",
    "\n",
    "max_drawdown = np.max(drawdowns)\n",
    "avg_drawdown = np.mean(drawdowns)\n",
    "median_drawdown = np.median(drawdowns)\n",
    "q3_drawdown = np.percentile(drawdowns, 75)\n",
    "\n",
    "# remember to compute recovery time from drawdowns\n",
    "\n",
    "# risk-adjusted return measures\n",
    "# all such measures are annualized here\n",
    "# information ratio = sharpe ratio without taking risk-free rate into account\n",
    "# using Narang's definition here, not Balch's - hence ignoring beta\n",
    "information_ratio = avg_annual_return / annual_std\n",
    "\n",
    "# sterling ratio = avg return / std of below average returns\n",
    "below_avg_returns = daily_returns[daily_returns < daily_returns.mean()]\n",
    "annual_below_avg_returns_std = below_avg_returns.std() * np.sqrt(252)\n",
    "sterling_ratio = avg_annual_return / annual_below_avg_returns_std\n",
    "sterling_ratio = sterling_ratio.values[0]\n",
    "\n",
    "# adjusted sterling ratio = avg return / std of negative returns\n",
    "negative_returns = daily_returns[daily_returns < 0]\n",
    "annual_negative_returns_std = negative_returns.std() * np.sqrt(252)\n",
    "adjusted_sterling_ratio = avg_annual_return / annual_negative_returns_std\n",
    "adjusted_sterling_ratio = adjusted_sterling_ratio.values[0] \n",
    "\n",
    "calmar_ratio = avg_annual_return / max_drawdown\n",
    "\n",
    "# omega ratio = sum of all positive returns / sum of all negative returns\n",
    "positive_returns = daily_returns[daily_returns > 0]\n",
    "omega_ratio = positive_returns.sum() / negative_returns.sum().abs()\n",
    "omega_ratio = omega_ratio.values[0]\n",
    "\n",
    "metrics_values = [final_pnl, avg_annual_return, annual_std, max_drawdown,\n",
    "                  avg_drawdown, median_drawdown, information_ratio,\n",
    "                  sterling_ratio, adjusted_sterling_ratio, calmar_ratio,\n",
    "                  omega_ratio]\n",
    "\n",
    "metrics_labels = ['final_pnl', 'avg_annual_return', 'annual_std', 'max_drawdown',\n",
    "                  'avg_drawdown', 'median_drawdown', 'information_ratio',\n",
    "                  'sterling_ratio', 'adjusted_sterling_ratio', 'calmar_ratio',\n",
    "                  'omega_ratio']\n",
    "\n",
    "metrics = pd.DataFrame(metrics_values, metrics_labels, ['benchmark'])\n",
    "\n",
    "display(metrics)"
   ]
  },
  {
   "cell_type": "markdown",
   "metadata": {},
   "source": [
    "Among these values, the ones that matter the most to us are the information ratio, the adjusted Sterling ratio and the Omega ratio.\n",
    "\n",
    "The information ratio matters in that it divides the average annual return by the annual standard deviation. In this particular case, we can see the importance of it since we have a high annual return - almost 27% - but even higher standard deviation, which gives us an idea of the risk we took in order to get the reward we got. Therefore, dividing the average return by the standard deviation of the returns seems to be a sound way to measure risk-adjusted returns. Ideally, we would like to have an information ratio greater than 2 for our model.\n",
    "\n",
    "The adjusted Sterling ratio is quite similar to the information ratio but it differs from it by diving the average annual return by the annual standard deviation of the losses only, which is interesting in that we might not care about the standard deviation as long it goes in our favour.\n",
    "\n",
    "The omega ratio also matters since it divides the amount of money we made when we won by the amount of money we lost. For our model, we would be happy to have an omega ratio greater than 3."
   ]
  },
  {
   "cell_type": "markdown",
   "metadata": {
    "collapsed": true
   },
   "source": [
    "## Methodology\n",
    "\n",
    "### Data Preprocessing\n",
    "As we anticipated in earlier sections, our data require a few preprocessing steps in that the raw data per se contains very little. However, there is a lot more information we can extract by applying some feature transformation to our raw data. We shall list the preprocessing steps we put in place in order to ease the process of handling our data and squeeze relevant information out of it:\n",
    "\n",
    "* Keep only adj_close and adj_volume, remove all other useless columns. All the information needed is contained by the selcted columns.\n",
    "\n",
    "* Reverse order from-most-recent-to-least-recent (Z -> A) to from-least-recent-to-most-recent (A -> Z).This will ease data handling due to the roll forward cross validation we chose and discussed about in our Analysis section, in the Algorithms and Techniques subsection.\n",
    "\n",
    "* Compute daily returns. How much the stock price changed with respect to the previous day since the variation of the price tells a lot more than the price per se.\n",
    "\n",
    "* Compute cumulative returns. How much the stock price changed with respect to the beginning of the period. This defines how much we would have made or lost (in percentage) by owning the stock at time t given we bought it at the beginning of the period.\n",
    "\n",
    "* Compute momentum. How much the stock price has changed over some number of days. This measures the steepness of the cumulative returns line over some number of days.\n",
    "\n",
    "* Compute momentum * volume. Scale momentum by volume so that trading days with more transactions acquire more weight than trading days with less transactions.\n",
    "\n",
    "* Normalize all features. Scale all values so that all observations are between zero and one for learning algorithms requiring features scaling such as support vector machines.\n",
    "\n",
    "* Remove outliers. Keep only data points that could be considered 'normal' market conditions.\n",
    "\n",
    "This last point is directly related with the abnormalities we observed in our Data Exploration section regarding the high number of outliers. Now that we have our new human-engineered features, we shall perform some additional data exploration on these in order to verify whether we can get some insight on the data by looking at their distribution. In particular, we aim at spotting outliers in order to consider removing abnormalities from our dataset."
   ]
  },
  {
   "cell_type": "code",
   "execution_count": 58,
   "metadata": {
    "collapsed": false
   },
   "outputs": [],
   "source": [
    "# compute momentum human-engineered feature\n",
    "momentum = data['adj_close'] / data['adj_close'].shift(5) - 1\n",
    "momentum = pd.DataFrame(momentum)\n",
    "momentum.columns = ['momentum']"
   ]
  },
  {
   "cell_type": "code",
   "execution_count": 39,
   "metadata": {
    "collapsed": false
   },
   "outputs": [],
   "source": [
    "# Scale all values so that all observations are between zero and one for learning\n",
    "# algorithms requiring features scaling such as support vector machines.\n",
    "\n",
    "from sklearn import preprocessing\n",
    "\n",
    "# scale momentum\n",
    "# use MinMax scaler from sklearn\n",
    "minmax_scaler = preprocessing.MinMaxScaler()\n",
    "\n",
    "# scale abs(momentum)\n",
    "# then multiply scaled values by sign(momentum) so that scaled values have same\n",
    "# sign as non-scaled values\n",
    "momentum_dropna = momentum.dropna()\n",
    "scaled_momentum = minmax_scaler.fit_transform(abs(momentum_dropna)) * \\\n",
    "                  np.sign(momentum_dropna)\n",
    "# scale volumes\n",
    "scaled_volumes = minmax_scaler.fit_transform(volumes)\n",
    "# scale momentum_by_volume\n",
    "scaled_momentum_by_volume = \\\n",
    "minmax_scaler.fit_transform(momentum_by_volume.dropna()) "
   ]
  },
  {
   "cell_type": "code",
   "execution_count": 62,
   "metadata": {
    "collapsed": false
   },
   "outputs": [],
   "source": [
    "momentum_by_volume = momentum * volumes.values\n",
    "momentum_by_volume.columns = ['momentum_by_volume']\n",
    "data = data.join(momentum_by_volume)"
   ]
  },
  {
   "cell_type": "markdown",
   "metadata": {},
   "source": [
    "### Data Exploration on Preprocessed Data"
   ]
  },
  {
   "cell_type": "markdown",
   "metadata": {},
   "source": [
    "#### Daily returns"
   ]
  },
  {
   "cell_type": "code",
   "execution_count": 40,
   "metadata": {
    "collapsed": false
   },
   "outputs": [
    {
     "data": {
      "text/html": [
       "<div>\n",
       "<table border=\"1\" class=\"dataframe\">\n",
       "  <thead>\n",
       "    <tr style=\"text-align: right;\">\n",
       "      <th></th>\n",
       "      <th>value</th>\n",
       "    </tr>\n",
       "  </thead>\n",
       "  <tbody>\n",
       "    <tr>\n",
       "      <th>mean</th>\n",
       "      <td>0.00105752</td>\n",
       "    </tr>\n",
       "    <tr>\n",
       "      <th>median</th>\n",
       "      <td>0</td>\n",
       "    </tr>\n",
       "    <tr>\n",
       "      <th>std</th>\n",
       "      <td>0.0295472</td>\n",
       "    </tr>\n",
       "    <tr>\n",
       "      <th>skew</th>\n",
       "      <td>-0.36725</td>\n",
       "    </tr>\n",
       "    <tr>\n",
       "      <th>kurt</th>\n",
       "      <td>17.3225</td>\n",
       "    </tr>\n",
       "    <tr>\n",
       "      <th>min</th>\n",
       "      <td>-0.518692</td>\n",
       "    </tr>\n",
       "    <tr>\n",
       "      <th>argmin</th>\n",
       "      <td>2000-09-29</td>\n",
       "    </tr>\n",
       "    <tr>\n",
       "      <th>max</th>\n",
       "      <td>0.332152</td>\n",
       "    </tr>\n",
       "    <tr>\n",
       "      <th>argmax</th>\n",
       "      <td>1997-08-06</td>\n",
       "    </tr>\n",
       "    <tr>\n",
       "      <th>q1</th>\n",
       "      <td>-0.0141654</td>\n",
       "    </tr>\n",
       "    <tr>\n",
       "      <th>q3</th>\n",
       "      <td>0.0153835</td>\n",
       "    </tr>\n",
       "    <tr>\n",
       "      <th>iqr</th>\n",
       "      <td>0.0295489</td>\n",
       "    </tr>\n",
       "    <tr>\n",
       "      <th>outlier_lb</th>\n",
       "      <td>-0.0584887</td>\n",
       "    </tr>\n",
       "    <tr>\n",
       "      <th>outlier_ub</th>\n",
       "      <td>0.0597067</td>\n",
       "    </tr>\n",
       "    <tr>\n",
       "      <th>major_outlier_lb</th>\n",
       "      <td>-0.102812</td>\n",
       "    </tr>\n",
       "    <tr>\n",
       "      <th>major_outlier_ub</th>\n",
       "      <td>0.10403</td>\n",
       "    </tr>\n",
       "    <tr>\n",
       "      <th>n_obs</th>\n",
       "      <td>9010</td>\n",
       "    </tr>\n",
       "    <tr>\n",
       "      <th>n_outliers</th>\n",
       "      <td>437</td>\n",
       "    </tr>\n",
       "    <tr>\n",
       "      <th>n_major_outliers</th>\n",
       "      <td>61</td>\n",
       "    </tr>\n",
       "    <tr>\n",
       "      <th>n_minor_outliers</th>\n",
       "      <td>376</td>\n",
       "    </tr>\n",
       "  </tbody>\n",
       "</table>\n",
       "</div>"
      ],
      "text/plain": [
       "                       value\n",
       "mean              0.00105752\n",
       "median                     0\n",
       "std                0.0295472\n",
       "skew                -0.36725\n",
       "kurt                 17.3225\n",
       "min                -0.518692\n",
       "argmin            2000-09-29\n",
       "max                 0.332152\n",
       "argmax            1997-08-06\n",
       "q1                -0.0141654\n",
       "q3                 0.0153835\n",
       "iqr                0.0295489\n",
       "outlier_lb        -0.0584887\n",
       "outlier_ub         0.0597067\n",
       "major_outlier_lb   -0.102812\n",
       "major_outlier_ub     0.10403\n",
       "n_obs                   9010\n",
       "n_outliers               437\n",
       "n_major_outliers          61\n",
       "n_minor_outliers         376"
      ]
     },
     "metadata": {},
     "output_type": "display_data"
    }
   ],
   "source": [
    "display(summary(daily_returns))"
   ]
  },
  {
   "cell_type": "code",
   "execution_count": 41,
   "metadata": {
    "collapsed": false
   },
   "outputs": [
    {
     "data": {
      "image/png": "[encoded data removed]",
      "text/plain": [
       "<matplotlib.figure.Figure at 0x7f3a13d8cc50>"
      ]
     },
     "metadata": {},
     "output_type": "display_data"
    }
   ],
   "source": [
    "plt.boxplot(data['daily_returns'].dropna().values,\n",
    "            vert=False,\n",
    "            showmeans=True)\n",
    "plt.title('Box-and-whisker plot of daily returns including all outliers')\n",
    "plt.show()"
   ]
  },
  {
   "cell_type": "code",
   "execution_count": 42,
   "metadata": {
    "collapsed": false
   },
   "outputs": [
    {
     "data": {
      "image/png": "[encoded data removed]",
      "text/plain": [
       "<matplotlib.figure.Figure at 0x7f3a13dc3590>"
      ]
     },
     "metadata": {},
     "output_type": "display_data"
    }
   ],
   "source": [
    "plt.hist(data['daily_returns'].dropna().values, bins=200, histtype='stepfilled')\n",
    "plt.xlabel('daily_returns')\n",
    "plt.ylabel('N. of observations')\n",
    "plt.title('Histogram of daily_returns distribution')\n",
    "plt.show()"
   ]
  },
  {
   "cell_type": "markdown",
   "metadata": {},
   "source": [
    "#### Momentum"
   ]
  },
  {
   "cell_type": "code",
   "execution_count": 43,
   "metadata": {
    "collapsed": false
   },
   "outputs": [
    {
     "data": {
      "text/html": [
       "<div>\n",
       "<table border=\"1\" class=\"dataframe\">\n",
       "  <thead>\n",
       "    <tr style=\"text-align: right;\">\n",
       "      <th></th>\n",
       "      <th>value</th>\n",
       "    </tr>\n",
       "  </thead>\n",
       "  <tbody>\n",
       "    <tr>\n",
       "      <th>mean</th>\n",
       "      <td>0.00532682</td>\n",
       "    </tr>\n",
       "    <tr>\n",
       "      <th>median</th>\n",
       "      <td>0.00444939</td>\n",
       "    </tr>\n",
       "    <tr>\n",
       "      <th>std</th>\n",
       "      <td>0.0661299</td>\n",
       "    </tr>\n",
       "    <tr>\n",
       "      <th>skew</th>\n",
       "      <td>0.044609</td>\n",
       "    </tr>\n",
       "    <tr>\n",
       "      <th>kurt</th>\n",
       "      <td>6.21376</td>\n",
       "    </tr>\n",
       "    <tr>\n",
       "      <th>min</th>\n",
       "      <td>-0.587664</td>\n",
       "    </tr>\n",
       "    <tr>\n",
       "      <th>argmin</th>\n",
       "      <td>2000-10-05</td>\n",
       "    </tr>\n",
       "    <tr>\n",
       "      <th>max</th>\n",
       "      <td>0.668</td>\n",
       "    </tr>\n",
       "    <tr>\n",
       "      <th>argmax</th>\n",
       "      <td>1997-08-07</td>\n",
       "    </tr>\n",
       "    <tr>\n",
       "      <th>q1</th>\n",
       "      <td>-0.0315922</td>\n",
       "    </tr>\n",
       "    <tr>\n",
       "      <th>q3</th>\n",
       "      <td>0.040882</td>\n",
       "    </tr>\n",
       "    <tr>\n",
       "      <th>iqr</th>\n",
       "      <td>0.0724743</td>\n",
       "    </tr>\n",
       "    <tr>\n",
       "      <th>outlier_lb</th>\n",
       "      <td>-0.140304</td>\n",
       "    </tr>\n",
       "    <tr>\n",
       "      <th>outlier_ub</th>\n",
       "      <td>0.149593</td>\n",
       "    </tr>\n",
       "    <tr>\n",
       "      <th>major_outlier_lb</th>\n",
       "      <td>-0.249015</td>\n",
       "    </tr>\n",
       "    <tr>\n",
       "      <th>major_outlier_ub</th>\n",
       "      <td>0.258305</td>\n",
       "    </tr>\n",
       "    <tr>\n",
       "      <th>n_obs</th>\n",
       "      <td>9006</td>\n",
       "    </tr>\n",
       "    <tr>\n",
       "      <th>n_outliers</th>\n",
       "      <td>338</td>\n",
       "    </tr>\n",
       "    <tr>\n",
       "      <th>n_major_outliers</th>\n",
       "      <td>37</td>\n",
       "    </tr>\n",
       "    <tr>\n",
       "      <th>n_minor_outliers</th>\n",
       "      <td>301</td>\n",
       "    </tr>\n",
       "  </tbody>\n",
       "</table>\n",
       "</div>"
      ],
      "text/plain": [
       "                       value\n",
       "mean              0.00532682\n",
       "median            0.00444939\n",
       "std                0.0661299\n",
       "skew                0.044609\n",
       "kurt                 6.21376\n",
       "min                -0.587664\n",
       "argmin            2000-10-05\n",
       "max                    0.668\n",
       "argmax            1997-08-07\n",
       "q1                -0.0315922\n",
       "q3                  0.040882\n",
       "iqr                0.0724743\n",
       "outlier_lb         -0.140304\n",
       "outlier_ub          0.149593\n",
       "major_outlier_lb   -0.249015\n",
       "major_outlier_ub    0.258305\n",
       "n_obs                   9006\n",
       "n_outliers               338\n",
       "n_major_outliers          37\n",
       "n_minor_outliers         301"
      ]
     },
     "metadata": {},
     "output_type": "display_data"
    }
   ],
   "source": [
    "display(summary(momentum))"
   ]
  },
  {
   "cell_type": "code",
   "execution_count": 44,
   "metadata": {
    "collapsed": false
   },
   "outputs": [
    {
     "data": {
      "image/png": "[encoded data removed]",
      "text/plain": [
       "<matplotlib.figure.Figure at 0x7f3a13d21f10>"
      ]
     },
     "metadata": {},
     "output_type": "display_data"
    }
   ],
   "source": [
    "plt.boxplot(momentum.dropna().values,\n",
    "            vert=False,\n",
    "            labels=['momentum'],\n",
    "            showmeans=True)\n",
    "plt.title('Box-and-whisker plot of momentum including all outliers')\n",
    "plt.show()"
   ]
  },
  {
   "cell_type": "code",
   "execution_count": 45,
   "metadata": {
    "collapsed": false
   },
   "outputs": [
    {
     "data": {
      "image/png": "[encoded data removed]",
      "text/plain": [
       "<matplotlib.figure.Figure at 0x7f3a13d21050>"
      ]
     },
     "metadata": {},
     "output_type": "display_data"
    }
   ],
   "source": [
    "plt.hist(momentum.dropna().values, bins=200, histtype='stepfilled')\n",
    "plt.xlabel('momentum')\n",
    "plt.ylabel('N. of observations')\n",
    "plt.title('Histogram of momentum distribution')\n",
    "plt.show()"
   ]
  },
  {
   "cell_type": "markdown",
   "metadata": {},
   "source": [
    "It can be observed that daily returns and momentum distributions share a similar distribution. Both have their mean centered around 0, both have relatively long tails due to the distance of major outliers from the mean and both have a quite simmetrical shape, except that the daily returns is slightly negatively skewed whereas the momentum distribution is very slightly positively skewed.\n",
    "\n",
    "The similarities should not surprise us in that both features share a similar nature: daily returns tell us the percent change in the stock price from the previous day, while momentum tells us the percent change in the stock price over the last 5 trading days. What we can observe by the difference in skewness is that some violent negative returns make the left tail longer and consequently the skewness negative, but such violent negative daily returns tend to be recovered over a slightly longer 5-day term."
   ]
  },
  {
   "cell_type": "markdown",
   "metadata": {},
   "source": [
    "#### Momentum weighted by volume"
   ]
  },
  {
   "cell_type": "code",
   "execution_count": 46,
   "metadata": {
    "collapsed": false
   },
   "outputs": [
    {
     "data": {
      "text/html": [
       "<div>\n",
       "<table border=\"1\" class=\"dataframe\">\n",
       "  <thead>\n",
       "    <tr style=\"text-align: right;\">\n",
       "      <th></th>\n",
       "      <th>value</th>\n",
       "    </tr>\n",
       "  </thead>\n",
       "  <tbody>\n",
       "    <tr>\n",
       "      <th>mean</th>\n",
       "      <td>607846</td>\n",
       "    </tr>\n",
       "    <tr>\n",
       "      <th>median</th>\n",
       "      <td>166865</td>\n",
       "    </tr>\n",
       "    <tr>\n",
       "      <th>std</th>\n",
       "      <td>1.81644e+07</td>\n",
       "    </tr>\n",
       "    <tr>\n",
       "      <th>skew</th>\n",
       "      <td>-8.97604</td>\n",
       "    </tr>\n",
       "    <tr>\n",
       "      <th>kurt</th>\n",
       "      <td>1069.09</td>\n",
       "    </tr>\n",
       "    <tr>\n",
       "      <th>min</th>\n",
       "      <td>-9.3997e+08</td>\n",
       "    </tr>\n",
       "    <tr>\n",
       "      <th>argmin</th>\n",
       "      <td>2000-09-29</td>\n",
       "    </tr>\n",
       "    <tr>\n",
       "      <th>max</th>\n",
       "      <td>6.27158e+08</td>\n",
       "    </tr>\n",
       "    <tr>\n",
       "      <th>argmax</th>\n",
       "      <td>1997-08-07</td>\n",
       "    </tr>\n",
       "    <tr>\n",
       "      <th>q1</th>\n",
       "      <td>-1.54451e+06</td>\n",
       "    </tr>\n",
       "    <tr>\n",
       "      <th>q3</th>\n",
       "      <td>2.56063e+06</td>\n",
       "    </tr>\n",
       "    <tr>\n",
       "      <th>iqr</th>\n",
       "      <td>4.10514e+06</td>\n",
       "    </tr>\n",
       "    <tr>\n",
       "      <th>outlier_lb</th>\n",
       "      <td>-7.70222e+06</td>\n",
       "    </tr>\n",
       "    <tr>\n",
       "      <th>outlier_ub</th>\n",
       "      <td>8.71834e+06</td>\n",
       "    </tr>\n",
       "    <tr>\n",
       "      <th>major_outlier_lb</th>\n",
       "      <td>-1.38599e+07</td>\n",
       "    </tr>\n",
       "    <tr>\n",
       "      <th>major_outlier_ub</th>\n",
       "      <td>1.48761e+07</td>\n",
       "    </tr>\n",
       "    <tr>\n",
       "      <th>n_obs</th>\n",
       "      <td>9006</td>\n",
       "    </tr>\n",
       "    <tr>\n",
       "      <th>n_outliers</th>\n",
       "      <td>1481</td>\n",
       "    </tr>\n",
       "    <tr>\n",
       "      <th>n_major_outliers</th>\n",
       "      <td>741</td>\n",
       "    </tr>\n",
       "    <tr>\n",
       "      <th>n_minor_outliers</th>\n",
       "      <td>740</td>\n",
       "    </tr>\n",
       "  </tbody>\n",
       "</table>\n",
       "</div>"
      ],
      "text/plain": [
       "                        value\n",
       "mean                   607846\n",
       "median                 166865\n",
       "std               1.81644e+07\n",
       "skew                 -8.97604\n",
       "kurt                  1069.09\n",
       "min               -9.3997e+08\n",
       "argmin             2000-09-29\n",
       "max               6.27158e+08\n",
       "argmax             1997-08-07\n",
       "q1               -1.54451e+06\n",
       "q3                2.56063e+06\n",
       "iqr               4.10514e+06\n",
       "outlier_lb       -7.70222e+06\n",
       "outlier_ub        8.71834e+06\n",
       "major_outlier_lb -1.38599e+07\n",
       "major_outlier_ub  1.48761e+07\n",
       "n_obs                    9006\n",
       "n_outliers               1481\n",
       "n_major_outliers          741\n",
       "n_minor_outliers          740"
      ]
     },
     "metadata": {},
     "output_type": "display_data"
    }
   ],
   "source": [
    "display(summary(momentum_by_volume))"
   ]
  },
  {
   "cell_type": "code",
   "execution_count": 47,
   "metadata": {
    "collapsed": false
   },
   "outputs": [
    {
     "data": {
      "image/png": "[encoded data removed]",
      "text/plain": [
       "<matplotlib.figure.Figure at 0x7f3a1be0c4d0>"
      ]
     },
     "metadata": {},
     "output_type": "display_data"
    }
   ],
   "source": [
    "plt.boxplot(momentum_by_volume.dropna().values,\n",
    "            vert=False,\n",
    "            labels=['momentum_by_volume'],\n",
    "            showmeans=True)\n",
    "plt.title('Box-and-whisker plot of momentum_by_volume including all outliers')\n",
    "plt.show()"
   ]
  },
  {
   "cell_type": "code",
   "execution_count": 48,
   "metadata": {
    "collapsed": false
   },
   "outputs": [
    {
     "data": {
      "image/png": "[encoded data removed]",
      "text/plain": [
       "<matplotlib.figure.Figure at 0x7f3a14201450>"
      ]
     },
     "metadata": {},
     "output_type": "display_data"
    }
   ],
   "source": [
    "plt.hist(momentum_by_volume.dropna().values, bins=1000, histtype='stepfilled')\n",
    "plt.xlabel('momentum_by_volume')\n",
    "plt.ylabel('N. of observations')\n",
    "plt.title('Histogram of momentum_by_volume distribution')\n",
    "plt.show()"
   ]
  },
  {
   "cell_type": "code",
   "execution_count": null,
   "metadata": {
    "collapsed": true
   },
   "outputs": [],
   "source": [
    "mome"
   ]
  },
  {
   "cell_type": "markdown",
   "metadata": {
    "collapsed": true
   },
   "source": [
    "In the case of the momentum by volume distribution we can observe the number of outliers is very high, thus making the tail of our distribution very long. Interestingly, while the momentum skewness is slightly positive and the volume skewness is clearly positive, the momentum by volume skewness is very negative. This shows how violent price declines are a lot more frequent than violent price increases, confirming the saying according to which the market goes up by the stairs and down by the elevator.\n",
    "\n",
    "It should also be noted that the number of outliers is a lot higher for the momentum by volume feature than for other features. This might be explained by the fact that the multiplication of two existing features results in larger values at the extremes, thus increasing the number of outliers. We will keep this in mind when we decide which data points to keep in our training sets based on whether we decide to consider them an outlier or not."
   ]
  },
  {
   "cell_type": "markdown",
   "metadata": {
    "collapsed": true
   },
   "source": [
    "#### Scatter matrix"
   ]
  },
  {
   "cell_type": "code",
   "execution_count": 66,
   "metadata": {
    "collapsed": false
   },
   "outputs": [
    {
     "data": {
      "image/png": "[encoded data removed]",
      "text/plain": [
       "<matplotlib.figure.Figure at 0x7f3a120da890>"
      ]
     },
     "metadata": {},
     "output_type": "display_data"
    }
   ],
   "source": [
    "data_subset = data.loc[:, ['adj_volume',\n",
    "                           'daily_returns',\n",
    "                           'momentum',\n",
    "                           'momentum_by_volume']] \n",
    "\n",
    "pd.scatter_matrix(data_subset, alpha = 0.3, figsize = (14,8), diagonal = 'kde')\n",
    "plt.show()"
   ]
  },
  {
   "cell_type": "markdown",
   "metadata": {},
   "source": [
    "The scatter matrix above enables us to look for potential correlations among features.\n",
    "\n",
    "The correlations between momentum and momentum_by_volume and between adj_volume and momentum_by_volume should be ignored since momentum_by_volume is a linear combination of momentum and adj_volume.\n",
    "\n",
    "There appears to be some correlation between daily_returns and momentum, but it should be noted that - as we pointed out above - daily_returns and momentum share a similar nature: daily returns tell us the percent change in the stock price from the previous day, while momentum tells us the percent change in the stock price over the last 5 trading days. Hence, daily_returns values contribute to determine momentum values.\n",
    "\n",
    "Moreover, the nature of our problem is such that it is of no use to know that daily_returns and some other feature are correlated at time t. Instead, what we need to know is whether the information we have at time t is enough to predict if the daily_returns value will be positive or negative at time t + delta. For example, we would like to know if there is some correlation between momentum_by_volume and daily_returns at time t + 1:"
   ]
  },
  {
   "cell_type": "code",
   "execution_count": 69,
   "metadata": {
    "collapsed": false
   },
   "outputs": [
    {
     "data": {
      "image/png": "[encoded data removed]",
      "text/plain": [
       "<matplotlib.figure.Figure at 0x7f3a120ca450>"
      ]
     },
     "metadata": {},
     "output_type": "display_data"
    }
   ],
   "source": [
    "plt.scatter(momentum_by_volume, daily_returns.shift(-1)) \n",
    "plt.show()"
   ]
  },
  {
   "cell_type": "markdown",
   "metadata": {},
   "source": [
    "From the scatter above, we can notice than it it becomes harder to see some immediately recognizable correlation when we look at the daily_returns at time t + 1 instead of those at time t."
   ]
  },
  {
   "cell_type": "markdown",
   "metadata": {
    "collapsed": true
   },
   "source": [
    "#### Outliers removal\n",
    "\n",
    "Now that we have performed some exploratory analysis on our new human-engineered features, we shall create 3 different datasets to test our models on: one dataset with no outliers, one with no major outliers and one with all outliers. We will test our models on each of these 3 dataset and see if there are significant differences in performance based on the dataset."
   ]
  },
  {
   "cell_type": "code",
   "execution_count": 71,
   "metadata": {
    "collapsed": true
   },
   "outputs": [],
   "source": [
    "def remove_outliers(df, coeff=1.5):\n",
    "\n",
    "    result = pd.DataFrame(index=df.index)\n",
    "    columns = range(0, df.shape[1])\n",
    "\n",
    "    for i in columns:\n",
    "        column = df[[i]].dropna()\n",
    "        q3, q1 = np.percentile(column, [75, 25])\n",
    "        iqr = q3 - q1\n",
    "        outlier_lb = q1 - iqr * coeff\n",
    "        outlier_ub = q3 + iqr * coeff\n",
    "        is_not_outlier = (column > outlier_lb) & (column < outlier_ub)\n",
    "        result = result.join(column[is_not_outlier])\n",
    "\n",
    "    return result.dropna()"
   ]
  },
  {
   "cell_type": "markdown",
   "metadata": {},
   "source": [
    "Before we proceed with removing outliers, we shall subset the portion of data we want to consider in order to take outliers away.\n",
    "\n",
    "For example, it would not make any sense to remove datapoints from the dataset based on the fact their adj_close is an outlier because the stock price has varied extensively over time - which is a normal behaviour for a stock price - and we do not see any point in removing datapoints just because they are too far from their historical median. If we removed datapoints on this criterion, we would leave out of our dataset all most recent point since the Apple stock had massive growth over the last few years."
   ]
  },
  {
   "cell_type": "code",
   "execution_count": 84,
   "metadata": {
    "collapsed": false,
    "scrolled": true
   },
   "outputs": [
    {
     "data": {
      "text/html": [
       "<div>\n",
       "<table border=\"1\" class=\"dataframe\">\n",
       "  <thead>\n",
       "    <tr style=\"text-align: right;\">\n",
       "      <th></th>\n",
       "      <th>adj_close</th>\n",
       "    </tr>\n",
       "  </thead>\n",
       "  <tbody>\n",
       "    <tr>\n",
       "      <th>2016-08-30</th>\n",
       "      <td>106.00</td>\n",
       "    </tr>\n",
       "    <tr>\n",
       "      <th>2016-08-31</th>\n",
       "      <td>106.10</td>\n",
       "    </tr>\n",
       "    <tr>\n",
       "      <th>2016-09-01</th>\n",
       "      <td>106.73</td>\n",
       "    </tr>\n",
       "    <tr>\n",
       "      <th>2016-09-02</th>\n",
       "      <td>107.73</td>\n",
       "    </tr>\n",
       "    <tr>\n",
       "      <th>2016-09-06</th>\n",
       "      <td>107.68</td>\n",
       "    </tr>\n",
       "  </tbody>\n",
       "</table>\n",
       "</div>"
      ],
      "text/plain": [
       "            adj_close\n",
       "2016-08-30     106.00\n",
       "2016-08-31     106.10\n",
       "2016-09-01     106.73\n",
       "2016-09-02     107.73\n",
       "2016-09-06     107.68"
      ]
     },
     "metadata": {},
     "output_type": "display_data"
    }
   ],
   "source": [
    "# show last datapoints in dataset\n",
    "display(data[['adj_close']].tail())"
   ]
  },
  {
   "cell_type": "code",
   "execution_count": 83,
   "metadata": {
    "collapsed": false
   },
   "outputs": [
    {
     "data": {
      "text/html": [
       "<div>\n",
       "<table border=\"1\" class=\"dataframe\">\n",
       "  <thead>\n",
       "    <tr style=\"text-align: right;\">\n",
       "      <th></th>\n",
       "      <th>adj_close</th>\n",
       "    </tr>\n",
       "  </thead>\n",
       "  <tbody>\n",
       "    <tr>\n",
       "      <th>2010-03-31</th>\n",
       "      <td>30.737161</td>\n",
       "    </tr>\n",
       "    <tr>\n",
       "      <th>2010-04-01</th>\n",
       "      <td>30.864034</td>\n",
       "    </tr>\n",
       "    <tr>\n",
       "      <th>2010-04-05</th>\n",
       "      <td>31.193641</td>\n",
       "    </tr>\n",
       "    <tr>\n",
       "      <th>2010-05-07</th>\n",
       "      <td>30.849646</td>\n",
       "    </tr>\n",
       "    <tr>\n",
       "      <th>2010-05-20</th>\n",
       "      <td>31.098160</td>\n",
       "    </tr>\n",
       "  </tbody>\n",
       "</table>\n",
       "</div>"
      ],
      "text/plain": [
       "            adj_close\n",
       "2010-03-31  30.737161\n",
       "2010-04-01  30.864034\n",
       "2010-04-05  31.193641\n",
       "2010-05-07  30.849646\n",
       "2010-05-20  31.098160"
      ]
     },
     "metadata": {},
     "output_type": "display_data"
    }
   ],
   "source": [
    "# show last datapoints in dataset if outliers are taken away based on adj_close\n",
    "display(remove_outliers(data[['adj_close']]).tail())"
   ]
  },
  {
   "cell_type": "markdown",
   "metadata": {},
   "source": [
    "From the table above, we can see that all datapoints after 2010-05-20 would have been taken away, thus depriving us of the most recent datapoints without a sound reason. Due to the common nature of adj_close and cumulative_returns, the same reasoning applies to cumulative_returns."
   ]
  },
  {
   "cell_type": "code",
   "execution_count": 87,
   "metadata": {
    "collapsed": false,
    "scrolled": true
   },
   "outputs": [
    {
     "data": {
      "text/html": [
       "<div>\n",
       "<table border=\"1\" class=\"dataframe\">\n",
       "  <thead>\n",
       "    <tr style=\"text-align: right;\">\n",
       "      <th></th>\n",
       "      <th>cumulative_returns</th>\n",
       "    </tr>\n",
       "  </thead>\n",
       "  <tbody>\n",
       "    <tr>\n",
       "      <th>2010-03-31</th>\n",
       "      <td>70.446304</td>\n",
       "    </tr>\n",
       "    <tr>\n",
       "      <th>2010-04-01</th>\n",
       "      <td>70.741210</td>\n",
       "    </tr>\n",
       "    <tr>\n",
       "      <th>2010-04-05</th>\n",
       "      <td>71.507358</td>\n",
       "    </tr>\n",
       "    <tr>\n",
       "      <th>2010-05-07</th>\n",
       "      <td>70.707767</td>\n",
       "    </tr>\n",
       "    <tr>\n",
       "      <th>2010-05-20</th>\n",
       "      <td>71.285418</td>\n",
       "    </tr>\n",
       "  </tbody>\n",
       "</table>\n",
       "</div>"
      ],
      "text/plain": [
       "            cumulative_returns\n",
       "2010-03-31           70.446304\n",
       "2010-04-01           70.741210\n",
       "2010-04-05           71.507358\n",
       "2010-05-07           70.707767\n",
       "2010-05-20           71.285418"
      ]
     },
     "metadata": {},
     "output_type": "display_data"
    }
   ],
   "source": [
    "# show last datapoints in dataset if outliers are taken away based on cumulative_returns\n",
    "display(remove_outliers(data[['cumulative_returns']]).tail())"
   ]
  },
  {
   "cell_type": "markdown",
   "metadata": {},
   "source": [
    "Also, we already noticed in the Data Exploration on Preprocessed Data subsection that the number of outliers is a lot higher for the momentum_by_volume feature than for other features. We pointed out that this might be explained by the fact that the multiplication of two existing features results in larger values at the extremes, thus increasing the number of outliers."
   ]
  },
  {
   "cell_type": "code",
   "execution_count": 108,
   "metadata": {
    "collapsed": false
   },
   "outputs": [
    {
     "name": "stdout",
     "output_type": "stream",
     "text": [
      "n. of outliers: momentum    338\n",
      "dtype: int64\n",
      "n. of outliers: adj_volume    616\n",
      "dtype: int64\n",
      "n. of outliers: momentum_by_volume    1481\n",
      "dtype: int64\n"
     ]
    }
   ],
   "source": [
    "# show number of outliers per feature by subtracting number of outliers from number of observations\n",
    "print \"n. of outliers: {}\".format(data[['momentum']].count() -\n",
    "                                  remove_outliers(data[['momentum']]).count())\n",
    "print \"n. of outliers: {}\".format(data[['adj_volume']].count() -\n",
    "                                  remove_outliers(data[['adj_volume']]).count())\n",
    "print \"n. of outliers: {}\".format(data[['momentum_by_volume']].count() -\n",
    "                                  remove_outliers(data[['momentum_by_volume']]).count())"
   ]
  },
  {
   "cell_type": "markdown",
   "metadata": {},
   "source": [
    "We consider that the number of momentum_by_volume outliers is artificially high due to the fact that the multiplication of two existing features results in larger values at the extremes. Consequently, we will choose not to consider  momentum_by_volume to determine datapoints to exclude from our datasets in that it is linear combination of two other features (momentum and volume) and we consider the information contained in momentum and volume is enough to spot outliers accurately.\n",
    "\n",
    "Therefore, the features we will take into account to determine outliers are adj_volume, momentum and daily_returns."
   ]
  },
  {
   "cell_type": "code",
   "execution_count": 144,
   "metadata": {
    "collapsed": true
   },
   "outputs": [],
   "source": [
    "# subset features to determine outliers\n",
    "subset = data[['adj_volume', 'momentum', 'daily_returns']]\n",
    "\n",
    "# generate indexes to create datasets\n",
    "no_outliers_ix = remove_outliers(subset).index\n",
    "no_major_outliers_ix = remove_outliers(subset, 3).index\n",
    "with_outliers_ix = subset.dropna().index\n",
    "\n",
    "# create master dataset\n",
    "dataset = data[['adj_volume',\n",
    "                'momentum',\n",
    "                'momentum_by_volume',\n",
    "                'daily_returns']]\n",
    "\n",
    "# build dataset based on previously generated indexes\n",
    "no_outliers = dataset.loc[no_outliers_ix, :]\n",
    "no_major_outliers = dataset.loc[no_major_outliers_ix, :]\n",
    "with_outliers = dataset.loc[with_outliers_ix, :]"
   ]
  },
  {
   "cell_type": "markdown",
   "metadata": {},
   "source": [
    "#### Training set and test set generation\n",
    "The nature of our problem is such that it is crucial to pay very close attention to how we create our training and test sets as this choice alone could make all our models prone to overfitting. In particular - as Georgia Tech's professor Tucker Balch points out in the Machine Learning for Trading course - we do not want to make the mistake of looking into the future. Therefore, when doing cross-validation - i.e. partitioning the dataset into subdatasets - it  is of utmost importance to make sure that the training set always precedes the test set. This cross-validation method is called roll-forward cross-validation.\n",
    "\n",
    "The way we have implemented this is through our generate_sets function, which takes as arguments:\n",
    "- a dataframe of features,\n",
    "- the size of the training sample (window_size),\n",
    "- the frequency of re-training the model(step_size).\n",
    "\n",
    "For example, with window_size=90 and step_size=6, on day 91 we train the model on the subset of our features from day 1 to day 90 and use it to predict days 91 to 96. Then, on day 97 we retrain the model from day 7 to 96 and use to predict days 96 to 101, and so on so forth.\n",
    "\n",
    "#### Dataset labeling\n",
    "The way we choose to label our data is to create 3 classes: -1, 0 and 1:\n",
    "- -1 when the daily return of the following day is negative\n",
    "- 0 when the daily return of the following day is zero\n",
    "- 1 when the daily return of the following day is positive\n",
    "\n",
    "This was done by computing the sign of daily returns and shifting them by -1.\n",
    "\n",
    "#### Dealing with outliers\n",
    "When it comes to the choice of how to dela with outliers, we considered several options:\n",
    "- take them out of the dataset and behave as they did not exist,\n",
    "- keep them into the dataset but do not trust the model's predicted label if there are too many of them,\n",
    "- keep them into the dataset but do not trust the model's predicted label even if there is just one them.\n",
    "\n",
    "Taking them away from the dataset does not seem wise to use since they are part of the dataset and arguably they mean something. Not trusting the model's predicted labels if there is a certain number of outliers in the dataset does not look like a good alternative either in that there are many of them in the dataset, which would decrease greatly the number of trading opportunities and prevent us from receiving potentially useful insight.\n",
    "\n",
    "For these reasons, we opted for keeping them into the dataset but pruning them by setting them equal to the outlier upper bound when they were on the right side of the distribution and to the lower bound when they were on the left side of distribution. As a result, after scaling all left outliers take the value of 0 and all right outliers take the value of 1. The benefit of such move is that outliers stay in the dataset but do not have the effect of squeezing the bulk of the distribution into an artificially dense area.\n",
    "\n",
    "#### Feature scaling\n",
    "Features are scaled using the minmax scaler so that all values are between 0 and 1. The reason for this is that some algorithms - like SVM - would give excessive weight to some features just because of the range of their values is wider than others.\n",
    "\n",
    "It is interesting to notice that we could not scale the test sets the same way we used with the training sets. With the training sets, we could simply prune the outliers with the function we created. However, if we had done the same with the test sets, the outliers would have been identified based on the data contained in the test set only. This would have been a problem for two reasons:\n",
    "- the training set and test set would have two different outlier lower and upper bounds - thus two different ranges -  which is not logical since both should have the same lower and upper bounds and range, in order to compare comparables\n",
    "- computing the lower and upper bound of the test sets would imply that all its values are known at the beginning of the test set period, but this is not the case as only training set values are known at decision making time\n",
    "\n",
    "For these reasons, it appeared a lot more logical to computer the scaled values of the test set using the lower and upper bound and range of the training set as follows:\n",
    "\n",
    "    scaled value = (test set value - training set min) / (training set max - training set min)"
   ]
  },
  {
   "cell_type": "markdown",
   "metadata": {},
   "source": [
    "### Implementation\n",
    "We created a run_model function that takes as input:\n",
    "- one model\n",
    "- a list of training sets\n",
    "- a list of test sets\n",
    "- a dataframe of labels\n",
    "\n",
    "This function:\n",
    "- iterates over the couples of training and test set,\n",
    "- fits the model on each training window,\n",
    "- tests it on the test window,\n",
    "- compares the predicted outcome versus the actual outcome,within the test window\n",
    "- computes the profit or loss made on each test example within the test window\n",
    "- returns a dataframe of accuracy values and a dataframe of profit and loss values over all test windows\n",
    "\n",
    "The models from sklearn we tested are:\n",
    "- ```linear_model.LogisticRegression()```\n",
    "- ```svm.SVC()```\n",
    "- ```neighbors.KNeighborsClassifier()```\n"
   ]
  },
  {
   "cell_type": "markdown",
   "metadata": {
    "collapsed": false
   },
   "source": [
    "#### Data Preprocessing\n",
    "- If the algorithms chosen require preprocessing steps like feature selection or feature transformations, have they been properly documented?\n",
    "- Based on the Data Exploration section, if there were abnormalities or characteristics that needed to be addressed, have they been properly corrected?\n",
    "    - How did you implement your rolling windows?\n",
    "    - How did you label your training samples?\n",
    "    - How did you deal with outliers? Why? Have you corrected the left outliers issue?\n",
    "    - Why did you scale your features? How did you do it?\n",
    "\n",
    "#### Implementation\n",
    "- Is it made clear how the algorithms and techniques were implemented with the given datasets or input data?\n",
    "    - Explain run_model\n",
    "- Was there any part of the coding process (e.g., writing complicated functions) that should be documented?\n",
    "\n",
    "#### Refinement\n",
    "\n",
    "- Has an initial solution been found and clearly reported?\n",
    "- Is the process of improvement clearly documented, such as what techniques were used?\n",
    "- Are intermediate and final solutions clearly reported as the process is improved?"
   ]
  },
  {
   "cell_type": "code",
   "execution_count": null,
   "metadata": {
    "collapsed": true
   },
   "outputs": [],
   "source": []
  }
 ],
 "metadata": {
  "kernelspec": {
   "display_name": "Python 2",
   "language": "python",
   "name": "python2"
  },
  "language_info": {
   "codemirror_mode": {
    "name": "ipython",
    "version": 2
   },
   "file_extension": ".py",
   "mimetype": "text/x-python",
   "name": "python",
   "nbconvert_exporter": "python",
   "pygments_lexer": "ipython2",
   "version": "2.7.11"
  }
 },
 "nbformat": 4,
 "nbformat_minor": 0
}
