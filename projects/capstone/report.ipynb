{
 "cells": [
  {
   "cell_type": "markdown",
   "metadata": {},
   "source": [
    "# Capstone Project\n",
    "## Machine Learning Engineer Nanodegree\n",
    "\n",
    "## Definition\n",
    "\n",
    "### Project Overview\n",
    "\n",
    "### Problem Statement\n",
    "The problem we aim at solving is to find an optimal policy to buy and sell some given stock in order to make profits out of difference between buying price and selling price. We will try to find a solution to this problem through a reinforcement learning approach. In particular, we plan to use Q-learning. We will choose a set of relevant features, on the assumption that their combination might have some predictive power.\n",
    "\n",
    "In a nutshell, we will be satisfied with the solution if the graph of cumulative profits over time has an upward trending slope and the ratio between the sum of all profits and the sum of all losses is at least greater than 2. This will mean that our model makes twice as much money than it loses, thus ensuring both profitability and low volatility.\n",
    "\n",
    "### Metrics\n",
    "* Graph of cumulative profits over time: this shows if the amount cumulative profits made by our agent are a positive amount, how smoothly profits are made with respect to the losses and the downside risk of the periods of negative performance\n",
    "\n",
    "* Profits minus losses: how much the agent has made minus how much the agent has lost\n",
    "\n",
    "* Average profit or loss per trade\n",
    "\n",
    "* Standard deviation of profits and losses\n",
    "\n",
    "* Percentage of winning trades over all trades (n. of winning trades + n. of losing trades)\n",
    "\n",
    "* Average profit of winning trades\n",
    "\n",
    "* Average loss of losing trades\n",
    "\n",
    "* Drawdowns: amount of money lost from any cumulative peak in the profit curve\n",
    "\n",
    "    * Worst peak-to-valley drawdown\n",
    "\n",
    "    * Average drawdown\n",
    "\n",
    "    * Median drawdown\n",
    "\n",
    "    * 3rd quartile drawdown\n",
    "\n",
    "* Recovery time from drawdowns: amount of time it takes to our agent to recover the amount of money previously lost\n",
    "\n",
    "    * Worst peak-to-valley drawdown recovery time\n",
    "\n",
    "    * Average drawdown recovery time\n",
    "\n",
    "    * Median drawdown recovery time\n",
    "\n",
    "    * 3rd quartile drawdown recovery time\n",
    "\n",
    "* Risk-adjusted profit or loss measures:\n",
    "\n",
    "    * Average profit or loss per trade divided by standard deviation of profits and losses\n",
    "\n",
    "    * Average profit or loss per trade divided by standard deviation of losses only\n",
    "\n",
    "    * Average profit or loss per trade divided by worst peak-to-valley drawdown\n",
    "\n",
    "    * Sum of money made of winning trades divided by sum of money lost on losing trades\n",
    "\n",
    "Our ideal agent:\n",
    "\n",
    "* makes more money than it loses,\n",
    "\n",
    "* shows a smooth upward trending profits curve,\n",
    "\n",
    "* makes high average profits,\n",
    "\n",
    "* makes low average losses,\n",
    "\n",
    "* makes high percentage of winning trades,\n",
    "\n",
    "* makes small drawdowns,\n",
    "\n",
    "* has short recovery time from drawdowns\n",
    "\n",
    "## Analysis\n",
    "\n",
    "### Data Exploration\n",
    "\n",
    "The dataset consists of financial time series of Apple Inc stock (ticker: AAPL) and comes from Quandl’s open source wiki ([https://www.quandl.com/data/WIKI/AAPL-Apple-Inc-AAPL-Prices-Dividends-Splits-and-Trading-Volume](https://www.quandl.com/data/WIKI/AAPL-Apple-Inc-AAPL-Prices-Dividends-Splits-and-Trading-Volume)). Please find a sample below:"
   ]
  },
  {
   "cell_type": "code",
   "execution_count": 28,
   "metadata": {
    "collapsed": false
   },
   "outputs": [
    {
     "data": {
      "text/html": [
       "<div>\n",
       "<table border=\"1\" class=\"dataframe\">\n",
       "  <thead>\n",
       "    <tr style=\"text-align: right;\">\n",
       "      <th></th>\n",
       "      <th>open</th>\n",
       "      <th>high</th>\n",
       "      <th>low</th>\n",
       "      <th>close</th>\n",
       "      <th>volume</th>\n",
       "      <th>ex_dividend</th>\n",
       "      <th>split_ratio</th>\n",
       "      <th>adj_open</th>\n",
       "      <th>adj_high</th>\n",
       "      <th>adj_low</th>\n",
       "      <th>adj_close</th>\n",
       "      <th>adj_volume</th>\n",
       "    </tr>\n",
       "  </thead>\n",
       "  <tbody>\n",
       "    <tr>\n",
       "      <th>2016-09-06</th>\n",
       "      <td>107.90</td>\n",
       "      <td>108.3000</td>\n",
       "      <td>107.51</td>\n",
       "      <td>107.68</td>\n",
       "      <td>24354375.0</td>\n",
       "      <td>0.0</td>\n",
       "      <td>1.0</td>\n",
       "      <td>107.90</td>\n",
       "      <td>108.3000</td>\n",
       "      <td>107.51</td>\n",
       "      <td>107.68</td>\n",
       "      <td>24354375.0</td>\n",
       "    </tr>\n",
       "    <tr>\n",
       "      <th>2016-09-02</th>\n",
       "      <td>107.70</td>\n",
       "      <td>108.0000</td>\n",
       "      <td>106.82</td>\n",
       "      <td>107.73</td>\n",
       "      <td>26802450.0</td>\n",
       "      <td>0.0</td>\n",
       "      <td>1.0</td>\n",
       "      <td>107.70</td>\n",
       "      <td>108.0000</td>\n",
       "      <td>106.82</td>\n",
       "      <td>107.73</td>\n",
       "      <td>26802450.0</td>\n",
       "    </tr>\n",
       "    <tr>\n",
       "      <th>2016-09-01</th>\n",
       "      <td>106.14</td>\n",
       "      <td>106.8000</td>\n",
       "      <td>105.62</td>\n",
       "      <td>106.73</td>\n",
       "      <td>26701523.0</td>\n",
       "      <td>0.0</td>\n",
       "      <td>1.0</td>\n",
       "      <td>106.14</td>\n",
       "      <td>106.8000</td>\n",
       "      <td>105.62</td>\n",
       "      <td>106.73</td>\n",
       "      <td>26701523.0</td>\n",
       "    </tr>\n",
       "    <tr>\n",
       "      <th>2016-08-31</th>\n",
       "      <td>105.66</td>\n",
       "      <td>106.5699</td>\n",
       "      <td>105.64</td>\n",
       "      <td>106.10</td>\n",
       "      <td>29662406.0</td>\n",
       "      <td>0.0</td>\n",
       "      <td>1.0</td>\n",
       "      <td>105.66</td>\n",
       "      <td>106.5699</td>\n",
       "      <td>105.64</td>\n",
       "      <td>106.10</td>\n",
       "      <td>29662406.0</td>\n",
       "    </tr>\n",
       "    <tr>\n",
       "      <th>2016-08-30</th>\n",
       "      <td>105.80</td>\n",
       "      <td>106.5000</td>\n",
       "      <td>105.50</td>\n",
       "      <td>106.00</td>\n",
       "      <td>24863945.0</td>\n",
       "      <td>0.0</td>\n",
       "      <td>1.0</td>\n",
       "      <td>105.80</td>\n",
       "      <td>106.5000</td>\n",
       "      <td>105.50</td>\n",
       "      <td>106.00</td>\n",
       "      <td>24863945.0</td>\n",
       "    </tr>\n",
       "  </tbody>\n",
       "</table>\n",
       "</div>"
      ],
      "text/plain": [
       "              open      high     low   close      volume  ex_dividend  \\\n",
       "2016-09-06  107.90  108.3000  107.51  107.68  24354375.0          0.0   \n",
       "2016-09-02  107.70  108.0000  106.82  107.73  26802450.0          0.0   \n",
       "2016-09-01  106.14  106.8000  105.62  106.73  26701523.0          0.0   \n",
       "2016-08-31  105.66  106.5699  105.64  106.10  29662406.0          0.0   \n",
       "2016-08-30  105.80  106.5000  105.50  106.00  24863945.0          0.0   \n",
       "\n",
       "            split_ratio  adj_open  adj_high  adj_low  adj_close  adj_volume  \n",
       "2016-09-06          1.0    107.90  108.3000   107.51     107.68  24354375.0  \n",
       "2016-09-02          1.0    107.70  108.0000   106.82     107.73  26802450.0  \n",
       "2016-09-01          1.0    106.14  106.8000   105.62     106.73  26701523.0  \n",
       "2016-08-31          1.0    105.66  106.5699   105.64     106.10  29662406.0  \n",
       "2016-08-30          1.0    105.80  106.5000   105.50     106.00  24863945.0  "
      ]
     },
     "metadata": {},
     "output_type": "display_data"
    },
    {
     "data": {
      "text/html": [
       "<div>\n",
       "<table border=\"1\" class=\"dataframe\">\n",
       "  <thead>\n",
       "    <tr style=\"text-align: right;\">\n",
       "      <th></th>\n",
       "      <th>open</th>\n",
       "      <th>high</th>\n",
       "      <th>low</th>\n",
       "      <th>close</th>\n",
       "      <th>volume</th>\n",
       "      <th>ex_dividend</th>\n",
       "      <th>split_ratio</th>\n",
       "      <th>adj_open</th>\n",
       "      <th>adj_high</th>\n",
       "      <th>adj_low</th>\n",
       "      <th>adj_close</th>\n",
       "      <th>adj_volume</th>\n",
       "    </tr>\n",
       "  </thead>\n",
       "  <tbody>\n",
       "    <tr>\n",
       "      <th>1980-12-18</th>\n",
       "      <td>26.63</td>\n",
       "      <td>26.75</td>\n",
       "      <td>26.63</td>\n",
       "      <td>26.63</td>\n",
       "      <td>327900.0</td>\n",
       "      <td>0.0</td>\n",
       "      <td>1.0</td>\n",
       "      <td>0.398490</td>\n",
       "      <td>0.400286</td>\n",
       "      <td>0.398490</td>\n",
       "      <td>0.398490</td>\n",
       "      <td>18362400.0</td>\n",
       "    </tr>\n",
       "    <tr>\n",
       "      <th>1980-12-17</th>\n",
       "      <td>25.87</td>\n",
       "      <td>26.00</td>\n",
       "      <td>25.87</td>\n",
       "      <td>25.87</td>\n",
       "      <td>385900.0</td>\n",
       "      <td>0.0</td>\n",
       "      <td>1.0</td>\n",
       "      <td>0.387117</td>\n",
       "      <td>0.389063</td>\n",
       "      <td>0.387117</td>\n",
       "      <td>0.387117</td>\n",
       "      <td>21610400.0</td>\n",
       "    </tr>\n",
       "    <tr>\n",
       "      <th>1980-12-16</th>\n",
       "      <td>25.37</td>\n",
       "      <td>25.37</td>\n",
       "      <td>25.25</td>\n",
       "      <td>25.25</td>\n",
       "      <td>472000.0</td>\n",
       "      <td>0.0</td>\n",
       "      <td>1.0</td>\n",
       "      <td>0.379635</td>\n",
       "      <td>0.379635</td>\n",
       "      <td>0.377840</td>\n",
       "      <td>0.377840</td>\n",
       "      <td>26432000.0</td>\n",
       "    </tr>\n",
       "    <tr>\n",
       "      <th>1980-12-15</th>\n",
       "      <td>27.38</td>\n",
       "      <td>27.38</td>\n",
       "      <td>27.25</td>\n",
       "      <td>27.25</td>\n",
       "      <td>785200.0</td>\n",
       "      <td>0.0</td>\n",
       "      <td>1.0</td>\n",
       "      <td>0.409713</td>\n",
       "      <td>0.409713</td>\n",
       "      <td>0.407768</td>\n",
       "      <td>0.407768</td>\n",
       "      <td>43971200.0</td>\n",
       "    </tr>\n",
       "    <tr>\n",
       "      <th>1980-12-12</th>\n",
       "      <td>28.75</td>\n",
       "      <td>28.87</td>\n",
       "      <td>28.75</td>\n",
       "      <td>28.75</td>\n",
       "      <td>2093900.0</td>\n",
       "      <td>0.0</td>\n",
       "      <td>1.0</td>\n",
       "      <td>0.430213</td>\n",
       "      <td>0.432009</td>\n",
       "      <td>0.430213</td>\n",
       "      <td>0.430213</td>\n",
       "      <td>117258400.0</td>\n",
       "    </tr>\n",
       "  </tbody>\n",
       "</table>\n",
       "</div>"
      ],
      "text/plain": [
       "             open   high    low  close     volume  ex_dividend  split_ratio  \\\n",
       "1980-12-18  26.63  26.75  26.63  26.63   327900.0          0.0          1.0   \n",
       "1980-12-17  25.87  26.00  25.87  25.87   385900.0          0.0          1.0   \n",
       "1980-12-16  25.37  25.37  25.25  25.25   472000.0          0.0          1.0   \n",
       "1980-12-15  27.38  27.38  27.25  27.25   785200.0          0.0          1.0   \n",
       "1980-12-12  28.75  28.87  28.75  28.75  2093900.0          0.0          1.0   \n",
       "\n",
       "            adj_open  adj_high   adj_low  adj_close   adj_volume  \n",
       "1980-12-18  0.398490  0.400286  0.398490   0.398490   18362400.0  \n",
       "1980-12-17  0.387117  0.389063  0.387117   0.387117   21610400.0  \n",
       "1980-12-16  0.379635  0.379635  0.377840   0.377840   26432000.0  \n",
       "1980-12-15  0.409713  0.409713  0.407768   0.407768   43971200.0  \n",
       "1980-12-12  0.430213  0.432009  0.430213   0.430213  117258400.0  "
      ]
     },
     "metadata": {},
     "output_type": "display_data"
    }
   ],
   "source": [
    "import pandas as pd\n",
    "import numpy as np\n",
    "from IPython.display import display\n",
    "\n",
    "data = pd.read_csv('WIKI-AAPL.csv', index_col=0)\n",
    "\n",
    "display(data.head())\n",
    "display(data.tail())"
   ]
  },
  {
   "cell_type": "markdown",
   "metadata": {},
   "source": [
    "Along with its daily timestamp as row index, each row contains the following inputs:\n",
    "\n",
    "* Open: price at which the stock was traded when market opened\n",
    "\n",
    "* High: highest price at which the stock was traded during the day\n",
    "\n",
    "* Low: lowest price at which the stock was traded during the day\n",
    "\n",
    "* Close: price at which the stock was traded when market closed\n",
    "\n",
    "* Volume: number of stocks traded during the day\n",
    "\n",
    "* Dividends: amount of money paid by Apple to its stockholders per share\n",
    "\n",
    "* Splits: see note below\n",
    "\n",
    "* Split/dividend adjusted open: see note below\n",
    "\n",
    "* Split/dividend adjusted high: see note below\n",
    "\n",
    "* Split/dividend adjusted low: see note below\n",
    "\n",
    "* Split/dividend adjusted close: see note below\n",
    "\n",
    "* Split/dividend adjusted volume: see note below\n",
    "\n",
    "(write note explaining split/dividend adjusted price)\n",
    "\n",
    "For an additional intuitive explanation of how this work, please watch the following video from Udacity’s Machine Learning for Trading course: [https://youtu.be/M2res0zhqjo](https://youtu.be/M2res0zhqjo)\n",
    "\n",
    "The data per se - as it is given - offers little useful information until it has been preprocessed in order to extract relevant information out of the given data. We postpone documenting such preprocessing steps to the Methodology section.\n",
    "\n",
    "The only useful information contained in the raw data is the adjusted volume. From now on, we will just refer to it as volume instead of adjusted volume in that it is the only data regarding volume that we are interested in.\n",
    "\n",
    "The reason why we are interested in volume data is that our fundamental assumption is that price changes are driven by supply and demand and the number of stocks traded indicates whether the price changes are due to a handful of players or to a much larger crowd.\n",
    "\n",
    "For example, let’s imagine a market where there are very few buyers and sellers. Then, the price will be determined by the supply and demand of those few players. On the contrary, if the crowd trading some market is very large, the equilibrium price will be the result of much wider negotiations. Therefore, we tend to assume that large volumes contribute to more reliable buying and selling signals. In any case, the size of the market - i.e. the number of stocks traded - does matter and we will try to use it to predict price movements, together with other human-engineered features.\n",
    "\n",
    "Here are a few observations regarding the volume statistics:\n",
    "\n",
    "* There are 9011 data points, one per trading day from 1980-12-12 to 2016-09-06\n",
    "\n",
    "* The mean volume is about 91 mln and the median volume is about 63 mln\n",
    "\n",
    "* The standard deviation of the volume is about 88 mln, which looks pretty high\n",
    "\n",
    "* The skewness is above 3, which looks high too. We can also notice that the mean is much higher than the median. This suggests us that there are some large outliers on the right side of the distribution.\n",
    "\n",
    "* The kurtosis is above 28, which is a very high reading. This indicates the tails of the distribution are quite fat.\n",
    "\n",
    "* The minimum volume was around 250k on 1985-09-27, so during the 80s\n",
    "\n",
    "* The maximum volume was around 1.9bn (!) on 2000-09-29, during the tech bubble\n",
    "\n",
    "* There are 616 outliers and 191 major outliers. That is respectively 6.8% and 2.1% of the observations, which looks high. Also, given the outlier lower bound is negative, we infer that all outliers are on the right side of the distribution, since it is not possible the number of stocks traded on some given day is below zero. This tells us there were several days of extraordinary activity in the trading of Apple stocks and it is certainly something to keep in mind."
   ]
  },
  {
   "cell_type": "code",
   "execution_count": 25,
   "metadata": {
    "collapsed": false
   },
   "outputs": [],
   "source": [
    "volumes = data['adj_volume']\n",
    "\n",
    "n_obs = volumes.count()\n",
    "mean = volumes.mean()\n",
    "median = volumes.median()\n",
    "std = volumes.std()\n",
    "skew = volumes.skew()\n",
    "kurt = volumes.kurt()\n",
    "min = volumes.min()\n",
    "argmin = volumes.argmin()\n",
    "max = volumes.max()\n",
    "argmax = volumes.argmax()\n",
    "\n",
    "q3, q1 = np.percentile(volumes, [75, 25])\n",
    "iqr = q3 - q1\n",
    "outlier_lb = q1 - iqr * 1.5\n",
    "outlier_ub = q3 + iqr * 1.5\n",
    "major_outlier_lb = q1 - iqr * 3\n",
    "major_outlier_ub = q3 + iqr * 3\n",
    "is_outlier = (volumes < outlier_lb) | (volumes > outlier_ub)\n",
    "is_major_outlier = (volumes < major_outlier_lb) | (volumes > major_outlier_ub)\n",
    "n_outliers = is_outlier.sum()\n",
    "n_major_outliers = is_major_outlier.sum()\n",
    "n_minor_outliers = n_outliers - n_major_outliers"
   ]
  },
  {
   "cell_type": "markdown",
   "metadata": {},
   "source": [
    "### Exploratory Visualization\n",
    "\n",
    "As we can see from the box-and-whisker plot below there are many outliers and some of them are completely elsewhere with respect to the rest of the sample.  This confirms the impression we got in the Data Exploration subsection."
   ]
  },
  {
   "cell_type": "code",
   "execution_count": 24,
   "metadata": {
    "collapsed": false
   },
   "outputs": [
    {
     "data": {
      "image/png": "[encoded data removed]",
      "text/plain": [
       "<matplotlib.figure.Figure at 0x7f69d4520f50>"
      ]
     },
     "metadata": {},
     "output_type": "display_data"
    }
   ],
   "source": [
    "import matplotlib.pyplot as plt\n",
    "%matplotlib inline\n",
    "\n",
    "# showing all outliers\n",
    "plt.boxplot(volumes, vert=False, labels=['Volumes'], showmeans=True)\n",
    "plt.title('Box-and-whisker plots including all outliers')\n",
    "plt.show()"
   ]
  },
  {
   "cell_type": "markdown",
   "metadata": {},
   "source": [
    "The plot changes substantially when we remove all major outliers from the picture, i.e. all outliers below Q1 - IQR \\* 3 and above Q3 + IQR \\* 3."
   ]
  },
  {
   "cell_type": "code",
   "execution_count": 27,
   "metadata": {
    "collapsed": false
   },
   "outputs": [
    {
     "data": {
      "image/png": "[encoded data removed]",
      "text/plain": [
       "<matplotlib.figure.Figure at 0x7f69d35ca7d0>"
      ]
     },
     "metadata": {},
     "output_type": "display_data"
    }
   ],
   "source": [
    "# ignoring major outliers only\n",
    "plt.boxplot(volumes, vert=False, labels=['Volumes'], showmeans=True,\n",
    "            showfliers=False, whis=3)\n",
    "plt.title('Box-and-whisker plots excluding major outliers only')\n",
    "plt.show()"
   ]
  },
  {
   "cell_type": "markdown",
   "metadata": {},
   "source": [
    "Eventually, the plot changes even more when we remove all outliers - both major and minor - from the picture, i.e. all outliers below Q1 - IQR \\* 1.5 and above Q3 + IQR \\* 1.5."
   ]
  },
  {
   "cell_type": "code",
   "execution_count": 29,
   "metadata": {
    "collapsed": false
   },
   "outputs": [
    {
     "data": {
      "image/png": "[encoded data removed]",
      "text/plain": [
       "<matplotlib.figure.Figure at 0x7f69d35ca8d0>"
      ]
     },
     "metadata": {},
     "output_type": "display_data"
    }
   ],
   "source": [
    "# ignoring all outliers\n",
    "plt.boxplot(volumes, vert=False, labels=['Volumes'], showmeans=True,\n",
    "            showfliers=False)\n",
    "plt.title('Box-and-whisker plots excluding all outliers')\n",
    "plt.show()"
   ]
  },
  {
   "cell_type": "markdown",
   "metadata": {},
   "source": [
    "Such visualization gives us a visual intuition of what we observed about outliers in the Data Exploration subsection. The number of outliers is high and this will have to be taken into consideration when building the model.\n",
    "\n",
    "Then, visualizing the histogram in order to get a visual intuition of the distribution of our volume data confirms what we observed in the Data Exploration subsection. The distribution is clearly positively skewed and it has a very long right tail. Also, it seems the distribution could be approximated by a lognormal distribution."
   ]
  },
  {
   "cell_type": "code",
   "execution_count": 31,
   "metadata": {
    "collapsed": false
   },
   "outputs": [
    {
     "data": {
      "image/png": "[encoded data removed]",
      "text/plain": [
       "<matplotlib.figure.Figure at 0x7f69d310c950>"
      ]
     },
     "metadata": {},
     "output_type": "display_data"
    }
   ],
   "source": [
    "# histogram of volume distribution\n",
    "plt.hist(volumes, bins=500, histtype='stepfilled')\n",
    "plt.xlabel('Volume')\n",
    "plt.ylabel('N. of observations')\n",
    "plt.title('Histogram of volume distribution')\n",
    "plt.show()"
   ]
  },
  {
   "cell_type": "markdown",
   "metadata": {},
   "source": [
    "This is confirmed by the fact that if we do the same plot using the natural logarithm of the data we have a relatively nice bell-shaped curve. We will keep this in mind and see if it is of any help for the rest of the project."
   ]
  },
  {
   "cell_type": "code",
   "execution_count": 33,
   "metadata": {
    "collapsed": false
   },
   "outputs": [
    {
     "data": {
      "image/png": "[encoded data removed]",
      "text/plain": [
       "<matplotlib.figure.Figure at 0x7f69d30d4b90>"
      ]
     },
     "metadata": {},
     "output_type": "display_data"
    }
   ],
   "source": [
    "# histogram of log(volume) distribution\n",
    "plt.hist(np.log(volumes), bins=100, histtype='stepfilled')\n",
    "plt.xlabel('Volume')\n",
    "plt.ylabel('N. of observations')\n",
    "plt.title('Histogram of log(volume) distribution')\n",
    "plt.show()"
   ]
  },
  {
   "cell_type": "markdown",
   "metadata": {
    "collapsed": true
   },
   "source": [
    "### Algorithms and Techniques\n",
    "\n",
    "Algorithms we will use (temporary list, might add or remove stuff):\n",
    "* Q-learning\n",
    "* Logistic regression\n",
    "* Support vector machines\n",
    "* Decision tree\n",
    "* Neural networks (needs more detail or to be omitted)\n",
    "* Ensemble learning\n",
    "\n",
    "#### General note on cross-validation for all algorithms\n",
    "Given the nature of our data, our choice will be to train our models on some given subset of the whole dataset at regular intervals (training set) and test its outcome on some immediately subsequent unseen subset (test set). This is known as roll forward cross validation. Its rationale is that learning some model on the whole dataset is more prone to overfitting than learning some model multiple times on small subsets of the data, thus enabling to run multiple tests with the same data.\n",
    "\n",
    "The reason why this rolling window or roll forward cross validation is a common practice in the case of financial time series is that we really do not want to look into the future while training some model. Hence, it is of utmost importance that the training sets always precede their respective test set.\n",
    "\n",
    "#### Q-learning\n",
    "We will define:\n",
    "* A state consisting of some set of inputs that I will describe in further detail in the Methodology section\n",
    "* A set of actions (buy, sell, do nothing)\n",
    "* A set of rewards for all combinations of starting state, action and arrival state\n",
    "* A model of transitions learned from the training sets\n",
    "\n",
    "The reason for using Q-learning is to create an agent which learns the rewards and penalties associated with each state and acts on the test set based on the Q-table it learned from the training set. The metaphor we may use is that of a self-driving car which gets rewarded for driving safely and penalized for crashing, causing damages to people or things, and breaking traffic rules. Accordingly, we will reward our agent when it makes money and penalize it when it loses money.\n",
    "\n",
    "#### Logistic regression\n",
    "The reason for using logistic regression is to classify the data points to determine whether the the stock should be bought or sold. We will train the model on the training sets based on the human-engineered features discussed in the Methodology section.\n",
    "\n",
    "For each data point, we will assign some probability of profiting by buying and some probability of profiting by selling based on whether buying or selling the stock would have made a profit or loss. Eventually, we will label data points in the training set by using a sigmoid function and choosing some minimum threshold in order to classify data points in the ‘buy’ class or in the ‘sell’ class and put all other data points in the ‘do nothing’ class.\n",
    "\n",
    "#### Support vector machines\n",
    "The reason for using support vector machines is again to classify the data points to determine whether the the stock should be bought or sold. The purpose is the same as logistic regression but we use a different approach here: we aim at finding a decision boundary that maximizes the margin, i.e. finding a line or hyperplane that is consistent with the data while committing the least to it. The reason why we want to commit the least to our data is that we want to avoid overfitting.\n",
    "\n",
    "Since it is possible that our data is not linearly separable given our human-engineered features, we will consider using the kernel trick, i.e. we will use some function to add some features by applying some linear transformation to our own features so that our non-linearly separable data becomes linearly separable. This is necessary with SVMs in that this algorithm puts first and foremost correct classification and only after it maximizes the margin. We will also play with the C and gamma parameters in order to find a model that fits the training data well enough but without falling into the trap of overfitting."
   ]
  },
  {
   "cell_type": "code",
   "execution_count": null,
   "metadata": {
    "collapsed": true
   },
   "outputs": [],
   "source": []
  }
 ],
 "metadata": {
  "kernelspec": {
   "display_name": "Python 2",
   "language": "python",
   "name": "python2"
  },
  "language_info": {
   "codemirror_mode": {
    "name": "ipython",
    "version": 2
   },
   "file_extension": ".py",
   "mimetype": "text/x-python",
   "name": "python",
   "nbconvert_exporter": "python",
   "pygments_lexer": "ipython2",
   "version": "2.7.11"
  }
 },
 "nbformat": 4,
 "nbformat_minor": 0
}
